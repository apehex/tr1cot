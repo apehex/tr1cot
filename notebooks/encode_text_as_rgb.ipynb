{
  "cells": [
    {
      "cell_type": "markdown",
      "source": [
        "# Setup"
      ],
      "metadata": {
        "id": "-hq7XkJnGLnQ"
      }
    },
    {
      "cell_type": "markdown",
      "source": [
        "## Install CJK Fonts"
      ],
      "metadata": {
        "id": "kO8w1nYZWWWC"
      }
    },
    {
      "cell_type": "code",
      "source": [
        "# DOWNLOAD #####################################################################\n",
        "\n",
        "!curl https://noto-website-2.storage.googleapis.com/pkgs/NotoSansCJK.ttc.zip --output noto.zip\n",
        "!unzip -d ~/.fonts noto.zip"
      ],
      "metadata": {
        "id": "ptPhggFPWYlQ"
      },
      "execution_count": null,
      "outputs": []
    },
    {
      "cell_type": "code",
      "source": [
        "# UPDATE SYSTEM FONTS ##########################################################\n",
        "\n",
        "!fc-cache -f -v\n",
        "!fc-list :lang=ja"
      ],
      "metadata": {
        "id": "zhsLvg20We_X"
      },
      "execution_count": null,
      "outputs": []
    },
    {
      "cell_type": "code",
      "source": [
        "# CLEAN ########################################################################\n",
        "\n",
        "!rm noto.zip\n",
        "!rm -r /root/.cache/matplotlib/"
      ],
      "metadata": {
        "id": "ME41s_thaqvP"
      },
      "execution_count": null,
      "outputs": []
    },
    {
      "cell_type": "code",
      "source": [
        "# RESTART ######################################################################\n",
        "\n",
        "import os\n",
        "import signal\n",
        "\n",
        "os.kill(os.getpid(), signal.SIGTERM)"
      ],
      "metadata": {
        "id": "3nC912S2XroR"
      },
      "execution_count": null,
      "outputs": []
    },
    {
      "cell_type": "code",
      "source": [
        "# LOAD IN MPL ##################################################################\n",
        "\n",
        "import matplotlib.font_manager\n",
        "\n",
        "fm = matplotlib.font_manager.json_load(\"/root/.cache/matplotlib/fontlist-v390.json\")\n",
        "fm.findfont('Noto Sans CJK JP', rebuild_if_missing=True)"
      ],
      "metadata": {
        "id": "zoDskZ3dYMyj"
      },
      "execution_count": null,
      "outputs": []
    },
    {
      "cell_type": "markdown",
      "source": [
        "## Install Dependencies"
      ],
      "metadata": {
        "id": "BWzBT6DRGREv"
      }
    },
    {
      "cell_type": "code",
      "source": [
        "!pip install -U datasets densecurves mlable"
      ],
      "metadata": {
        "id": "OybN9KpxG7Hh"
      },
      "execution_count": null,
      "outputs": []
    },
    {
      "cell_type": "markdown",
      "source": [
        "## Import Dependencies"
      ],
      "metadata": {
        "id": "GKpIEv2qGOPT"
      }
    },
    {
      "cell_type": "code",
      "source": [
        "%matplotlib inline"
      ],
      "metadata": {
        "id": "3q51rMy2G5mB"
      },
      "execution_count": null,
      "outputs": []
    },
    {
      "cell_type": "code",
      "execution_count": null,
      "metadata": {
        "id": "zEcgik_qFoMI"
      },
      "outputs": [],
      "source": [
        "import functools\n",
        "import math\n",
        "\n",
        "import matplotlib as mpl\n",
        "import matplotlib.axes as mpa\n",
        "import matplotlib.colors as mpc\n",
        "import matplotlib.pyplot as mpp\n",
        "import PIL as pl\n",
        "\n",
        "import datasets as hd\n",
        "import numpy as np\n",
        "import tensorflow as tf\n",
        "\n",
        "import densecurves.hilbert\n",
        "import mlable.shaping.hilbert\n",
        "import mlable.utils"
      ]
    },
    {
      "cell_type": "markdown",
      "source": [
        "## Config"
      ],
      "metadata": {
        "id": "1FldltN-SgkB"
      }
    },
    {
      "cell_type": "code",
      "source": [
        "# PLOT #########################################################################\n",
        "\n",
        "PLOT_CONFIG = {\n",
        "    'family': ['DejaVu Sans', 'Noto Sans CJK JP', 'Noto Sans TC'],\n",
        "    'norm': mpc.Normalize(vmin=0, vmax=10), # mc.Normalize(vmin=0, vmax=10),\n",
        "    'cmap': mpc.ListedColormap(['#000000', '#0074D9','#FF4136','#2ECC40','#FFDC00', '#AAAAAA', '#F012BE', '#FF851B', '#7FDBFF', '#870C25', '#FFFFFF']),} # mpl.colormaps['binary'],}"
      ],
      "metadata": {
        "id": "Hto3r6k1TAEf"
      },
      "execution_count": null,
      "outputs": []
    },
    {
      "cell_type": "code",
      "source": [
        "# DATASETS #####################################################################\n",
        "\n",
        "DATASETS_CONFIG = {\n",
        "    # 'cot-text-openthoughts': {\n",
        "    #     'path': 'open-thoughts/OpenThoughts-114k',\n",
        "    #     'name': 'default',\n",
        "    #     'split': 'train',\n",
        "    #     'features': ['problem', 'solution'],},\n",
        "    'ft-asciiart-asciiart': {\n",
        "        'path': 'apehex/ascii-art',\n",
        "        'name': 'asciiart',\n",
        "        'split': 'train',\n",
        "        'features': ['content'],},\n",
        "    'ft-asciiart-copypasta': {\n",
        "        'path': 'apehex/ascii-art',\n",
        "        'name': 'copypasta',\n",
        "        'split': 'train',\n",
        "        'features': ['content'],},\n",
        "    'ft-asciiart-graffiti': {\n",
        "        'path': 'apehex/ascii-art',\n",
        "        'name': 'graffiti',\n",
        "        'split': 'train',\n",
        "        'features': ['content'],},\n",
        "    'ft-asciiart-images': {\n",
        "        'path': 'apehex/ascii-art',\n",
        "        'name': 'images',\n",
        "        'split': 'train',\n",
        "        'features': ['content'],},\n",
        "    # 'ft-asciiart-datacompdr': {\n",
        "    #     'path': 'apehex/ascii-art-datacompdr-12m',\n",
        "    #     'name': 'default',\n",
        "    #     'split': 'train',\n",
        "    #     'features': ['content'],},\n",
        "    # 'cot-math-numi': {\n",
        "    #     'path': 'AI-MO/NuminaMath-CoT',\n",
        "    #     'name': None,\n",
        "    #     'split': 'train',\n",
        "    #     'features': ['problem', 'solution'],},\n",
        "}"
      ],
      "metadata": {
        "id": "AukPTFLHvWe-"
      },
      "execution_count": null,
      "outputs": []
    },
    {
      "cell_type": "code",
      "source": [
        "# SAMPLES ######################################################################\n",
        "\n",
        "WIKI_SAMPLE = \"\"\"Hilbert curve\\n\\nThe Hilbert curve (also known as the Hilbert space-filling curve) is a continuous fractal space-filling curve first described by the German mathematician David Hilbert in 1891,[1] as a variant of the space-filling Peano curves discovered by Giuseppe Peano in 1890.[2]\\n\\nBecause it is space-filling, its Hausdorff dimension is 2 (precisely, its image is the unit square, whose dimension is 2 in any definition of dimension; its graph is a compact set homeomorphic to the closed unit interval, with Hausdorff dimension 1).\\n\\nThe Hilbert curve is constructed as a limit of piecewise linear curves. The length of the {\\\\displaystyle n}th curve is {\\\\displaystyle \\\\textstyle 2^{n}-{1 \\\\over 2^{n}}}, i.e., the length grows exponentially with {\\\\displaystyle n}, even though each curve is contained in a square with area {\\\\displaystyle 1}.\\n\\nImages\\n\\nFirst six iterations of the Hilbert curve\\n\\nHilbert curve, first order\\n\\nHilbert curves, first and second orders\\n\\nHilbert curves, first to third orders\\n\\nProduction rules\\n\\nHilbert curve, construction color-coded\\n\\nA 3-D Hilbert curve with color showing progression\\n\\nVariant, first three iterations[3]\\n\\nApplications and mapping algorithms\\n\\nBoth the true Hilbert curve and its discrete approximations are useful because they give a mapping between 1D and 2D space that preserves locality fairly well.[4] This means that two data points which are close to each other in one-dimensional space are also close to each other after folding. The converse cannot always be true.\\n\\nBecause of this locality property, the Hilbert curve is widely used in computer science. For example, the range of IP addresses used by computers can be mapped into a picture using the Hilbert curve. Code to generate the image would map from 2D to 1D to find the color of each pixel, and the Hilbert curve is sometimes used because it keeps nearby IP addresses close to each other in the picture.[5] The locality property of the Hilbert curve has also been used to design algorithms for exploring regions with mobile robots[6][7] and indexing geospatial location data.[8]\\n\\nIn an algorithm called Riemersma dithering, grayscale photographs can be converted to a dithered black-and-white image using thresholding, with the leftover amount from each pixel added to the next pixel along the Hilbert curve. Code to do this would map from 1D to 2D, and the Hilbert curve is sometimes used because it does not create the distracting patterns that would be visible to the eye if the order were simply left to right across each row of pixels.[9] Hilbert curves in higher dimensions are an instance of a generalization of Gray codes, and are sometimes used for similar purposes, for similar reasons. For multidimensional databases, Hilbert order has been proposed to be used instead of Z order because it has better locality-preserving behavior. For example, Hilbert curves have been used to compress and accelerate R-tree indexes[10] (see Hilbert R-tree). They have also been used to help compress data warehouses.[11][12]\\n\\nThe linear distance of any point along the curve can be converted to coordinates in n dimensions for a given n, and vice versa, using any of several standard mathematical techniques such as Skilling\\'s method.[13][14]\\n\\nIt is possible to implement Hilbert curves efficiently even when the data space does not form a square.[15] Moreover, there are several possible generalizations of Hilbert curves to higher dimensions.[16][17]\\n\\nRepresentation as Lindenmayer system\\n\\nThe Hilbert Curve can be expressed by a rewrite system (L-system).\\n\\nDuration: 52 seconds.0:52\\nHilbert curve at its sixth iteration\\nAlphabet : A, B\\nConstants : F + −\\nAxiom : A\\nProduction rules:\\nA → +BF−AFA−FB+\\nB → −AF+BFB+FA−\\nHere, \"F\" means \"draw forward\", \"+\" means \"turn left 90°\", \"-\" means \"turn right 90°\" (see turtle graphics), and \"A\" and \"B\" are ignored during drawing.\\n\\nOther implementations\\n\\nGraphics Gems II[18][promotion?] discusses Hilbert curve coherency, and provides implementation.\\n\\nThe Hilbert Curve is commonly used among rendering images or videos. Common programs such as Blender and Cinema 4D use the Hilbert Curve to trace the objects, and render the scene.[citation needed]\\n\\nThe slicer software used to convert 3D models into toolpaths for a 3D printer typically has the Hilbert curve as an option for an infill pattern.\\n\"\"\"\n",
        "JAPANESE_SAMPLE = \"\"\"ヒルベルト曲線\\n\\nヒルベルト曲線（ヒルベルト空間充填曲線とも呼ばれる）は、1891年にドイツの数学者ダヴィド・ヒルベルトによって初めて記述された連続フラクタル空間充填曲線である[1]。これは、1890年にジュゼッペ・ペアノによって発見された空間充填ペアノ曲線の変種である[2]。\\n\\nヒルベルト曲線は空間充填曲線であるため、ハウスドルフ次元は2である（正確には、その像は任意の次元定義において次元が2である単位正方形である。そのグラフは、ハウスドルフ次元が1である、閉単位区間に同相なコンパクト集合である）。\\n\\nヒルベルト曲線は、区分線形曲線の極限として構成される。 {\\\\displaystyle n}番目の曲線の長さは{\\\\displaystyle \\\\textstyle 2^{n}-{1 \\\\over 2^{n}}}です。つまり、各曲線が面積{\\\\displaystyle 1}の正方形に収まっているにもかかわらず、長さは{\\\\displaystyle n}とともに指数関数的に増加します。\\n\\n画像\\n\\nヒルベルト曲線の最初の6回の反復\\n\\nヒルベルト曲線、1次\\n\\nヒルベルト曲線、1次と2次\\n\\nヒルベルト曲線、1次から3次\\n\\n生成規則\\n\\nヒルベルト曲線、色分けされた作図\\n\\n色分けされた3次元ヒルベルト曲線、進行を示す\\n\\n変種、最初の3回の反復[3]\\n\\n応用と写像アルゴリズム\\n\\n真のヒルベルト曲線とその離散近似はどちらも、1次元空間と2次元空間間の写像において局所性をかなりよく保存するため有用です。[4]これは、1次元空間で互いに近い2つのデータポイントは、折り畳み後も互いに近いことを意味します。逆は必ずしも真ではありません。\\n\\nこの局所性のため、ヒルベルト曲線はコンピュータサイエンスで広く用いられています。例えば、コンピュータで使用されるIPアドレスの範囲は、ヒルベルト曲線を用いて画像にマッピングできます。画像を生成するコードは、各ピクセルの色を見つけるために2次元から1次元にマッピングしますが、ヒルベルト曲線は画像内で近くのIPアドレスを互いに近くに保つため、用いられることがあります。[5] ヒルベルト曲線の局所性は、移動ロボットによる地域探索[6][7]や地理空間位置データのインデックス作成[8]のためのアルゴリズムの設計にも用いられています。\\n\\nリーマースマディザリングと呼ばれるアルゴリズムでは、閾値処理を用いてグレースケール写真をディザリングされた白黒画像に変換し、各ピクセルの余剰量をヒルベルト曲線に沿って次のピクセルに加算します。これを実現するコードは1次元から2次元へのマッピングとなり、ヒルベルト曲線が用いられることがあります。これは、各ピクセル行を単純に左から右へ順序付けた場合に目に見えるような、目障りなパターンを生成しないためです。[9] 高次元のヒルベルト曲線はグレイコードの一般化の一例であり、同様の理由から同様の目的で使用されることがあります。多次元データベースでは、局所性保存性に優れているため、Z順序ではなくヒルベルト順序の使用が提案されています。例えば、ヒルベルト曲線はR木インデックスの圧縮と高速化に使用されています[10]（ヒルベルトR木を参照）。また、データウェアハウスの圧縮にも使用されています[11][12]。\\n\\n曲線上の任意の点の直線距離は、スキリング法などの標準的な数学的手法を用いて、与えられたnに対してn次元座標に変換でき、その逆も可能です。[13][14]\\n\\nデータ空間が正方形でなくても、ヒルベルト曲線を効率的に実装することは可能です。[15] さらに、ヒルベルト曲線を高次元に一般化する方法がいくつかあります。[16][17]\\n\\nリンデンマイヤーシステムによる表現\\n\\nヒルベルト曲線は、書換えシステム（Lシステム）で表現できます。\\n\\n再生時間：52秒。0:52\\n6回目の反復におけるヒルベルト曲線\\nアルファベット：A, B\\n定数：F + −\\n公理：A\\n生成規則：\\nA → +BF−AFA−FB+\\nB → −AF+BFB+FA−\\nここで、「F」は「前方に描く」、「+」は「左に90°回転する」、「-」は「右に90°回転する」（タートルグラフィックスを参照）を意味し、「A」と「B」は描画時に無視されます。\\n\\nその他の実装\\n\\nGraphics Gems II[18][プロモーション?]では、ヒルベルト曲線の一貫性について議論し、実装を提供しています。\\n\\nヒルベルト曲線は、画像や動画のレンダリングでよく使用されます。BlenderやCinema 4Dなどの一般的なプログラムは、ヒルベルト曲線を用いてオブジェクトのトレースやシーンのレンダリングを行っています。[要出典]\\n\\n3Dモデルを3Dプリンターのツールパスに変換するスライサーソフトウェアでは、通常、ヒルベルト曲線がインフィルパターンのオプションとして提供されています。\"\"\"\n",
        "ART_SAMPLE = \"\"\"⢕⢕⢕⢕⢕⢕⢕⢕⢕⢕⢕⢕⢕⢕⢕⢕⢕⢕⢕⢕⢕⢕⠕⠕⠕⠕⢕⢕\\n⢕⢕⢕⢕⢕⠕⠕⢕⢕⢕⢕⢕⢕⢕⢕⢕⢕⠕⠁⣁⣠⣤⣤⣤⣶⣦⡄⢑\\n⢕⢕⢕⠅⢁⣴⣤⠀⣀⠁⠑⠑⠁⢁⣀⣀⣀⣀⣘⢻⣿⣿⣿⣿⣿⡟⢁⢔\\n⢕⢕⠕⠀⣿⡁⠄⠀⣹⣿⣿⣿⡿⢋⣥⠤⠙⣿⣿⣿⣿⣿⡿⠿⡟⠀⢔⢕\\n⢕⠕⠁⣴⣦⣤⣴⣾⣿⣿⣿⣿⣇⠻⣇⠐⠀⣼⣿⣿⣿⣿⣿⣄⠀⠐⢕⢕\\n⠅⢀⣾⣿⣿⣿⣿⣿⣿⣿⣿⣿⣿⣷⣶⣶⣿⣿⣿⣿⣿⣿⣿⣿⣷⡄⠐⢕\\n⠀⢸⣿⣿⣿⣿⣿⣿⣿⣿⣿⣿⣿⣿⣿⣿⣿⣿⣿⣿⣿⣿⣿⣿⣿⣿⡄⠐\\n⢄⠈⢿⣿⣿⣿⣿⣿⣿⣿⣿⣿⣿⣿⣿⣿⣿⣿⣿⣿⣿⣿⣿⣿⣿⣿⣿⡆\\n⢕⢔⠀⠈⠛⠿⣿⣿⣿⣿⣿⣿⣿⣿⣿⣿⣿⣿⣿⣿⣿⣿⣿⣿⣿⣿⣿⣿\\n⢕⢕⢄⠈⠳⣶⣶⣶⣤⣤⣤⣤⣭⡍⢭⡍⢨⣯⡛⢿⣿⣿⣿⣿⣿⣿⣿⣿\\n⢕⢕⢕⢕⠀⠈⠛⠿⢿⣿⣿⣿⣿⣿⣦⣤⣿⣿⣿⣦⣈⠛⢿⢿⣿⣿⣿⣿\\n⢕⢕⢕⠁⢠⣾⣶⣾⣭⣖⣛⣿⠿⣿⣿⣿⣿⣿⣿⣿⣿⣷⡆⢸⣿⣿⣿⡟\\n⢕⢕⠅⢀⣾⣿⣿⣿⣿⣿⣿⣿⣿⣿⣿⣿⣿⣿⣿⣿⣿⡿⠟⠈⢿⣿⣿⡇\\n⢕⠕⠀⠼⠟⢉⣉⡙⠻⠿⢿⣿⣿⣿⣿⣿⡿⢿⣛⣭⡴⠶⠶⠂⠀⠿⠿⠇\"\"\""
      ],
      "metadata": {
        "id": "hRwevikKiQpn"
      },
      "execution_count": null,
      "outputs": []
    },
    {
      "cell_type": "markdown",
      "source": [
        "## Download The Datasets"
      ],
      "metadata": {
        "id": "gfzuwdoaIND6"
      }
    },
    {
      "cell_type": "code",
      "source": [
        "# DOWNLOAD #####################################################################\n",
        "\n",
        "DATASETS = {\n",
        "    __name: hd.load_dataset(path=__args['path'], name=__args['name'], split=__args['split']).to_tf_dataset(shuffle=True, batch_size=None)\n",
        "    for __name, __args in DATASETS_CONFIG.items()}"
      ],
      "metadata": {
        "id": "Hg_e1H7FIPtN"
      },
      "execution_count": null,
      "outputs": []
    },
    {
      "cell_type": "markdown",
      "source": [
        "## Preprocess The Datasets"
      ],
      "metadata": {
        "id": "4UmkL6D1Lcpu"
      }
    },
    {
      "cell_type": "code",
      "source": [
        "# REMOVE COLOR CODES ###########################################################\n",
        "\n",
        "ANSI_REGEX = r'\\x1b\\[[0-9;]*[mGKHF]'\n",
        "\n",
        "clean = functools.partial(tf.strings.regex_replace, pattern=ANSI_REGEX, rewrite='', replace_global=True)\n",
        "\n",
        "def preprocess(sample: dict, operator: callable, targets: list) -> tf.Tensor:\n",
        "    return {\n",
        "        __k: operator(__v) if __k in targets else __v\n",
        "        for __k, __v in sample.items()}"
      ],
      "metadata": {
        "id": "Ovm-XnYquFKZ"
      },
      "execution_count": null,
      "outputs": []
    },
    {
      "cell_type": "code",
      "source": [
        "# ITERATE ######################################################################\n",
        "\n",
        "for __name in DATASETS:\n",
        "    # specialized preprocessing fn\n",
        "    __preprocess = functools.partial(preprocess, operator=clean, targets=DATASETS_CONFIG[__name]['features'])\n",
        "    # apply\n",
        "    DATASETS[__name] = DATASETS[__name].map(__preprocess, num_parallel_calls=tf.data.AUTOTUNE)"
      ],
      "metadata": {
        "id": "F41CQCs55_Co"
      },
      "execution_count": null,
      "outputs": []
    },
    {
      "cell_type": "markdown",
      "source": [
        "# RGB Text"
      ],
      "metadata": {
        "id": "L2iy6C6fHmqn"
      }
    },
    {
      "cell_type": "markdown",
      "source": [
        "## Encoding"
      ],
      "metadata": {
        "id": "li5doqcqevqU"
      }
    },
    {
      "cell_type": "code",
      "source": [
        "# RGB ENCODING #################################################################\n",
        "\n",
        "def rgb(rows: list) -> np.ndarray:\n",
        "    __height, __width = len(rows), len(rows[0])\n",
        "    # each character is encoded as 4 bytes\n",
        "    __rows = [list(__r.encode('utf-32-be')) for __r in rows]\n",
        "    # 2d reshaping\n",
        "    __array = np.array(__rows, dtype=np.uint8).reshape((__height, __width, 4))\n",
        "    # strip the leading byte, always null in utf-32 (big-endian)\n",
        "    return __array[..., 1:]"
      ],
      "metadata": {
        "id": "mGLiuWOXsZAD"
      },
      "execution_count": null,
      "outputs": []
    },
    {
      "cell_type": "code",
      "source": [
        "# CUSTOM COLOR SCHEMES #########################################################\n",
        "\n",
        "def mix_channels(channels: np.ndarray) -> np.ndarray:\n",
        "    __mod = np.array(3 * [256], dtype=channels.dtype)\n",
        "    __mix = [channels[0] + channels[-1], channels[1] + channels[-1], channels[-1]]\n",
        "    return np.mod(__mix, __mod)\n",
        "\n",
        "def rgb_mixed(rows: list) -> np.ndarray:\n",
        "    return np.apply_along_axis(mix_channels, arr=rgb(rows).astype(np.int32), axis=-1)\n",
        "\n",
        "def rgb_hilbert(rows: list) -> np.ndarray:\n",
        "    __height, __width = len(rows), len(rows[0])\n",
        "    # each character is encoded as 4 bytes\n",
        "    __rows = [[densecurves.hilbert.point(ord(__c), order=8, rank=3) for __c in __r] for __r in rows]\n",
        "    # cast and reshape\n",
        "    return np.array(__rows, dtype=np.uint8).reshape((__height, __width, 3))"
      ],
      "metadata": {
        "id": "QA-SG5DCyTKt"
      },
      "execution_count": null,
      "outputs": []
    },
    {
      "cell_type": "markdown",
      "source": [
        "## Display"
      ],
      "metadata": {
        "id": "Ay0wqMyYZIFa"
      }
    },
    {
      "cell_type": "code",
      "source": [
        "# CONTEXT ######################################################################\n",
        "\n",
        "class PlotContext:\n",
        "    def __init__(self, rows: int, cols: int, zoom: iter=(4, 4), meta: bool=True, **kwargs) -> None:\n",
        "        self._rows = rows\n",
        "        self._cols = cols\n",
        "        self._zoom = zoom\n",
        "        self._meta = meta\n",
        "        self._args = dict(kwargs)\n",
        "        self._size = (zoom[0] * cols, zoom[-1] * rows)\n",
        "        self._figure = None\n",
        "        self._axes = None\n",
        "\n",
        "    def __enter__(self) -> tuple:\n",
        "        self._figure, self._axes = mpp.subplots(nrows=self._rows, ncols=self._cols, figsize=self._size, **self._args)\n",
        "        # toggle the lines\n",
        "        for __a in self._figure.axes:\n",
        "            __a.get_xaxis().set_visible(self._meta)\n",
        "            __a.get_yaxis().set_visible(self._meta)\n",
        "        # return to the execution env\n",
        "        return (self._figure, self._axes)\n",
        "\n",
        "    def __exit__(self, exc_type: any, exc_value: any, traceback: any) -> None:\n",
        "        mpp.tight_layout()\n",
        "        mpp.show()"
      ],
      "metadata": {
        "id": "SIgse5le_CXe"
      },
      "execution_count": null,
      "outputs": []
    },
    {
      "cell_type": "code",
      "source": [
        "# IMAGE WITH CAPTION OVERLAY ###################################################\n",
        "\n",
        "def matshow(axes: mpa.Axes, data: iter=(), curve: iter=(), text: iter=(), family: iter=None, cmap: mpc.Colormap=None) -> None:\n",
        "    # image like display of an array\n",
        "    if len(data):\n",
        "        axes.matshow(data, cmap=cmap)\n",
        "    # path of the curve\n",
        "    if len(curve):\n",
        "        axes.plot(curve[0], curve[-1], color='black')\n",
        "    # add a text overlay\n",
        "    for __j in range(len(text)):\n",
        "        for __i in range(len(text[__j])):\n",
        "            if text[__j][__i] not in ' \\x00':\n",
        "                axes.text(__i, __j, str(text[__j][__i]), va='center', ha='center', color='white', family=family)"
      ],
      "metadata": {
        "id": "nBjAnGinZJyR"
      },
      "execution_count": null,
      "outputs": []
    },
    {
      "cell_type": "markdown",
      "source": [
        "## Samples"
      ],
      "metadata": {
        "id": "qqcpjNY7LfcA"
      }
    },
    {
      "cell_type": "code",
      "source": [
        "# ENGLISH ######################################################################\n",
        "\n",
        "__s = [WIKI_SAMPLE[15:79]]\n",
        "__x = rgb(__s)\n",
        "__y = rgb_mixed(__s)\n",
        "__h = rgb_hilbert(__s)\n",
        "# RGB\n",
        "with PlotContext(rows=1, cols=1, zoom=(16, 16), meta=False) as (__fig, __axes):\n",
        "    matshow(data=__x, axes=__axes)\n",
        "with PlotContext(rows=1, cols=1, zoom=(16, 16), meta=False) as (__fig, __axes):\n",
        "    matshow(data=__x, text=__s, axes=__axes)\n",
        "# MIXED\n",
        "with PlotContext(rows=1, cols=1, zoom=(16, 16), meta=False) as (__fig, __axes):\n",
        "    matshow(data=__y, axes=__axes)\n",
        "with PlotContext(rows=1, cols=1, zoom=(16, 16), meta=False) as (__fig, __axes):\n",
        "    matshow(data=__y, text=__s, axes=__axes)\n",
        "# HILBERT\n",
        "with PlotContext(rows=1, cols=1, zoom=(16, 16), meta=False) as (__fig, __axes):\n",
        "    matshow(data=__h, axes=__axes)\n",
        "with PlotContext(rows=1, cols=1, zoom=(16, 16), meta=False) as (__fig, __axes):\n",
        "    matshow(data=__h, text=__s, axes=__axes)"
      ],
      "metadata": {
        "id": "6D2x01yu9nox"
      },
      "execution_count": null,
      "outputs": []
    },
    {
      "cell_type": "code",
      "source": [
        "# JAPANESE #####################################################################\n",
        "\n",
        "__s = [JAPANESE_SAMPLE[17:81],]\n",
        "__x = rgb(__s)\n",
        "__y = rgb_mixed(__s)\n",
        "__h = rgb_hilbert(__s)\n",
        "# RGB\n",
        "with PlotContext(rows=1, cols=1, zoom=(16, 16), meta=False) as (__fig, __axes):\n",
        "    matshow(data=__x, axes=__axes)\n",
        "with PlotContext(rows=1, cols=1, zoom=(16, 16), meta=False) as (__fig, __axes):\n",
        "    matshow(data=__x, text=__s, axes=__axes, family=['Noto Sans CJK JP', 'sans-serif'])\n",
        "# MIXED\n",
        "with PlotContext(rows=1, cols=1, zoom=(16, 16), meta=False) as (__fig, __axes):\n",
        "    matshow(data=__y, axes=__axes)\n",
        "with PlotContext(rows=1, cols=1, zoom=(16, 16), meta=False) as (__fig, __axes):\n",
        "    matshow(data=__y, text=__s, axes=__axes, family=['Noto Sans CJK JP', 'sans-serif'])\n",
        "# HILBERT\n",
        "with PlotContext(rows=1, cols=1, zoom=(16, 16), meta=False) as (__fig, __axes):\n",
        "    matshow(data=__h, axes=__axes)\n",
        "with PlotContext(rows=1, cols=1, zoom=(16, 16), meta=False) as (__fig, __axes):\n",
        "    matshow(data=__h, text=__s, axes=__axes, family=['Noto Sans CJK JP', 'sans-serif'])"
      ],
      "metadata": {
        "id": "4jEwmq2OFYOy"
      },
      "execution_count": null,
      "outputs": []
    },
    {
      "cell_type": "markdown",
      "source": [
        "## Attention Patterns"
      ],
      "metadata": {
        "id": "rUuBD2aqLDGW"
      }
    },
    {
      "cell_type": "code",
      "source": [
        "# single sequence axis: dimension of 10k to 10M tokens"
      ],
      "metadata": {
        "id": "SEA_2A2XLFj5"
      },
      "execution_count": null,
      "outputs": []
    },
    {
      "cell_type": "markdown",
      "source": [
        "# 2D Text (Naive Approach)"
      ],
      "metadata": {
        "id": "AiobnSwuTcw6"
      }
    },
    {
      "cell_type": "markdown",
      "source": [
        "## Format"
      ],
      "metadata": {
        "id": "fdruSQngI-YF"
      }
    },
    {
      "cell_type": "code",
      "source": [
        "# 1D => 2D #####################################################################\n",
        "\n",
        "def split(text: str, height: int=-1, width: int=-1, separator: str='') -> list:\n",
        "    # typically split on \\n or at a fixed size\n",
        "    __rows = text.split(separator) if separator else mlable.utils.chunk(text, width)\n",
        "    # :width would leave one character out when width == -1\n",
        "    __width = slice(width if (width > 0) else None)\n",
        "    # idem fro the height\n",
        "    __height = slice(height if (height > 0) else None)\n",
        "    # enforce the maximum dimensions\n",
        "    return [__r[__width] for __r in __rows[__height] if __r]"
      ],
      "metadata": {
        "id": "6FCRS7bTxcZV"
      },
      "execution_count": null,
      "outputs": []
    },
    {
      "cell_type": "code",
      "source": [
        "# FILL ROWS ####################################################################\n",
        "\n",
        "def pad(rows: list, width: int, value: str='\\x00') -> list:\n",
        "    return [__r + (width - len(__r)) * value for __r in rows]"
      ],
      "metadata": {
        "id": "93tasUie1Uh5"
      },
      "execution_count": null,
      "outputs": []
    },
    {
      "cell_type": "markdown",
      "source": [
        "## Samples"
      ],
      "metadata": {
        "id": "tZtRyr3_JGhT"
      }
    },
    {
      "cell_type": "code",
      "source": [
        "# ASCII ART ####################################################################\n",
        "\n",
        "__s = pad(split(ART_SAMPLE.replace('\\n', ''), width=28, separator=''), width=28)\n",
        "__x = rgb(__s)\n",
        "__y = 32 * np.ones(__x.shape, dtype=np.int32)\n",
        "__z = rgb_mixed(__s)\n",
        "__h = rgb_hilbert(__s)\n",
        "# RGB\n",
        "with PlotContext(rows=1, cols=3, zoom=(5, 5), meta=False) as (__fig, __axes):\n",
        "    matshow(data=__y, text=__s, axes=__axes[0])\n",
        "    matshow(data=__x, axes=__axes[1])\n",
        "    matshow(data=__x, text=__s, axes=__axes[-1])\n",
        "# MIXED\n",
        "with PlotContext(rows=1, cols=3, zoom=(5, 5), meta=False) as (__fig, __axes):\n",
        "    matshow(data=__y, text=__s, axes=__axes[0])\n",
        "    matshow(data=__z, axes=__axes[1])\n",
        "    matshow(data=__z, text=__s, axes=__axes[-1])\n",
        "# HILBERT\n",
        "with PlotContext(rows=1, cols=3, zoom=(5, 5), meta=False) as (__fig, __axes):\n",
        "    matshow(data=__y, text=__s, axes=__axes[0])\n",
        "    matshow(data=__h, axes=__axes[1])\n",
        "    matshow(data=__h, text=__s, axes=__axes[-1])"
      ],
      "metadata": {
        "id": "QzTL7M2Copeb"
      },
      "execution_count": null,
      "outputs": []
    },
    {
      "cell_type": "code",
      "source": [
        "# MORE AA ######################################################################\n",
        "\n",
        "__i = iter(DATASETS['ft-asciiart-images'])"
      ],
      "metadata": {
        "id": "u7RgKdBtthVR"
      },
      "execution_count": null,
      "outputs": []
    },
    {
      "cell_type": "code",
      "source": [
        "__s = next(__i)\n",
        "__d = __s['caption'].numpy().decode('utf-8')\n",
        "__l = __s['labels'].numpy().decode('utf-8')\n",
        "__t = split(__s['content'].numpy().decode('utf-8'), width=-1, separator='\\n')\n",
        "__x = rgb(__t)\n",
        "__y = 32 * np.ones(__x.shape, dtype=np.int32)\n",
        "__z = rgb_mixed(__t)\n",
        "__h = rgb_hilbert(__t)\n",
        "print('{} | {}'.format(__d, __l))\n",
        "# RGB\n",
        "with PlotContext(rows=1, cols=3, zoom=(10, 10), meta=False) as (__fig, __axes):\n",
        "    matshow(data=__y, text=__t, axes=__axes[0])\n",
        "    matshow(data=__x, axes=__axes[1])\n",
        "    matshow(data=__x, text=__t, axes=__axes[-1])\n",
        "# MIXED\n",
        "with PlotContext(rows=1, cols=3, zoom=(10, 10), meta=False) as (__fig, __axes):\n",
        "    matshow(data=__y, text=__t, axes=__axes[0])\n",
        "    matshow(data=__z, axes=__axes[1])\n",
        "    matshow(data=__z, text=__t, axes=__axes[-1])\n",
        "# MIXED\n",
        "with PlotContext(rows=1, cols=3, zoom=(10, 10), meta=False) as (__fig, __axes):\n",
        "    matshow(data=__y, text=__t, axes=__axes[0])\n",
        "    matshow(data=__h, axes=__axes[1])\n",
        "    matshow(data=__h, text=__t, axes=__axes[-1])"
      ],
      "metadata": {
        "id": "M8U7FqnTpvdY"
      },
      "execution_count": null,
      "outputs": []
    },
    {
      "cell_type": "code",
      "source": [
        "# SPLIT ON NEWLINES ############################################################\n",
        "\n",
        "__s = pad(split(WIKI_SAMPLE, width=64, separator='\\n'), width=64)\n",
        "__x = rgb(__s)\n",
        "__z = rgb_mixed(__s)\n",
        "__h = rgb_hilbert(__s)\n",
        "# RGB\n",
        "with PlotContext(rows=1, cols=2, zoom=(16, 16), meta=False) as (__fig, __axes):\n",
        "    matshow(data=__x, axes=__axes[0])\n",
        "    matshow(data=__x, text=__s, axes=__axes[-1])\n",
        "# MIXED\n",
        "with PlotContext(rows=1, cols=2, zoom=(16, 16), meta=False) as (__fig, __axes):\n",
        "    matshow(data=__z, axes=__axes[0])\n",
        "    matshow(data=__z, text=__s, axes=__axes[-1])\n",
        "# HILBERT\n",
        "with PlotContext(rows=1, cols=2, zoom=(16, 16), meta=False) as (__fig, __axes):\n",
        "    matshow(data=__h, axes=__axes[0])\n",
        "    matshow(data=__h, text=__s, axes=__axes[-1])"
      ],
      "metadata": {
        "id": "P6NAxVNFsRSZ"
      },
      "execution_count": null,
      "outputs": []
    },
    {
      "cell_type": "code",
      "source": [
        "# KOREAN #######################################################################\n",
        "\n",
        "__s = pad(split(JAPANESE_SAMPLE, width=64, separator='\\n'), width=64)\n",
        "__x = rgb(__s)\n",
        "__z = rgb_mixed(__s)\n",
        "__h = rgb_hilbert(__s)\n",
        "# RGB\n",
        "with PlotContext(rows=1, cols=2, zoom=(16, 16), meta=False) as (__fig, __axes):\n",
        "    matshow(data=__x, axes=__axes[0])\n",
        "    matshow(data=__x, text=__s, axes=__axes[-1], family=['Noto Sans CJK JP', 'sans-serif'])\n",
        "# MIXED\n",
        "with PlotContext(rows=1, cols=2, zoom=(16, 16), meta=False) as (__fig, __axes):\n",
        "    matshow(data=__z, axes=__axes[0])\n",
        "    matshow(data=__z, text=__s, axes=__axes[-1], family=['Noto Sans CJK JP', 'sans-serif'])\n",
        "# HILBERT\n",
        "with PlotContext(rows=1, cols=2, zoom=(16, 16), meta=False) as (__fig, __axes):\n",
        "    matshow(data=__h, axes=__axes[0])\n",
        "    matshow(data=__h, text=__s, axes=__axes[-1], family=['Noto Sans CJK JP', 'sans-serif'])"
      ],
      "metadata": {
        "id": "ncpRlAbWn-Kq"
      },
      "execution_count": null,
      "outputs": []
    },
    {
      "cell_type": "code",
      "source": [
        "# FIXED SIZE CHUNKS ############################################################\n",
        "\n",
        "__s = pad(split(WIKI_SAMPLE, width=64, separator=''), width=64)\n",
        "__x = rgb(__s)\n",
        "with PlotContext(rows=1, cols=2, zoom=(16, 16), meta=False) as (__fig, __axes):\n",
        "    matshow(data=__x, axes=__axes[0])\n",
        "    matshow(data=__x, text=__s, axes=__axes[-1])"
      ],
      "metadata": {
        "id": "VYrOUbBcjYKn"
      },
      "execution_count": null,
      "outputs": []
    },
    {
      "cell_type": "markdown",
      "source": [
        "## Attention Patterns"
      ],
      "metadata": {
        "id": "Bhdpp-59TJ8p"
      }
    },
    {
      "cell_type": "code",
      "source": [
        "# height and width attention\n",
        "# correlated on ASCII art\n",
        "# width attention is meaningful\n",
        "# height attention has a discontinuity\n",
        "# could be bridged layer by layer as the perception field extends and also merges\n",
        "# ideally: all the characters (tokens) in an area should be related"
      ],
      "metadata": {
        "id": "szdEj30EgZKd"
      },
      "execution_count": null,
      "outputs": []
    },
    {
      "cell_type": "markdown",
      "source": [
        "# Text Along The Hilbert Curve"
      ],
      "metadata": {
        "id": "pfAU0lquTTu6"
      }
    },
    {
      "cell_type": "markdown",
      "source": [
        "## Visualizing The 1D Position"
      ],
      "metadata": {
        "id": "xGyyvJ78RUYW"
      }
    },
    {
      "cell_type": "code",
      "source": [
        "__text = tf.cast(list(WIKI_SAMPLE[15:4111]), dtype=tf.string)\n",
        "__text = mlable.shaping.hilbert.fold(__text, axis=0, order=6, rank=2)\n",
        "__text = [[__c.decode('utf-8') for __c in __r] for __r in __text.numpy().tolist()]"
      ],
      "metadata": {
        "id": "EnEivOO1XiMz"
      },
      "execution_count": null,
      "outputs": []
    },
    {
      "cell_type": "code",
      "source": [
        "__position = tf.cast(range(4096), dtype=tf.int32)\n",
        "__position = mlable.shaping.hilbert.fold(__position, axis=0, order=6, rank=2)"
      ],
      "metadata": {
        "id": "OOGC6MmUX1qq"
      },
      "execution_count": null,
      "outputs": []
    },
    {
      "cell_type": "code",
      "source": [
        "__curve = [densecurves.hilbert.point(__i, order=6, rank=2) for __i in range(4096)]\n",
        "__curve = list(zip(*__curve))"
      ],
      "metadata": {
        "id": "LO37M1UvEqfl"
      },
      "execution_count": null,
      "outputs": []
    },
    {
      "cell_type": "code",
      "source": [
        "__colors = tf.cast(rgb([WIKI_SAMPLE[:4096]]), dtype=tf.int32)\n",
        "__colors = mlable.shaping.hilbert.fold(__colors, axis=1, order=6, rank=2)"
      ],
      "metadata": {
        "id": "h63dLNE8u4hq"
      },
      "execution_count": null,
      "outputs": []
    },
    {
      "cell_type": "code",
      "source": [
        "with PlotContext(rows=1, cols=3, zoom=(16, 16), meta=False) as (__fig, __axes):\n",
        "    matshow(axes=__axes[0], data=__position, curve=__curve[::-1], cmap='plasma')\n",
        "    matshow(axes=__axes[1], data=__position, text=__text, curve=__curve[::-1], cmap='plasma')\n",
        "    matshow(axes=__axes[2], data=__colors[0])"
      ],
      "metadata": {
        "id": "y07Fy1If2WgQ"
      },
      "execution_count": null,
      "outputs": []
    },
    {
      "cell_type": "markdown",
      "source": [
        "# Higher Order Curves"
      ],
      "metadata": {
        "id": "P9dzQsYJSry3"
      }
    },
    {
      "cell_type": "markdown",
      "source": [
        "## Display Tools"
      ],
      "metadata": {
        "id": "z2m1En6lj03h"
      }
    },
    {
      "cell_type": "code",
      "source": [
        "# IMAGE WITH CAPTION OVERLAY ###################################################\n",
        "\n",
        "def matshow3d(axes: mpa.Axes, data: iter=(), curve: iter=(), text: iter=(), family: iter=None, cmap: mpc.Colormap=None) -> None:\n",
        "    # image like display of an array\n",
        "    if len(data):\n",
        "        __fill = np.ones(tuple(data.shape)[:-1], dtype=np.bool)\n",
        "        axes.voxels(filled=__fill, facecolors=data)\n",
        "    # path of the curve\n",
        "    if len(curve):\n",
        "        __x, __y, __z = curve\n",
        "        __u, __v, __w = [[__p[-1] -__p[0] for __p in list(zip(__a[:-1], __a[1:]))] for __a in curve]\n",
        "        __c = [mpl.cm.gnuplot(__r) for __r in np.linspace(0, 1, len(__x))]\n",
        "        axes.quiver(__x, __y, __z, __u + [0], __v + [0], __w + [0], color=__c, alpha=0.5)\n",
        "    # add a text overlay\n",
        "    for __k in range(len(text)):\n",
        "        for __j in range(len(text[__k])):\n",
        "            for __i in range(len(text[__k][__j])):\n",
        "                if text[__k][__j][__i] not in ' \\x00':\n",
        "                    axes.text(__i + 0.1, __j + 0.1, __k + 0.1, str(text[__k][__j][__i]), va='center', ha='center', color='black', family=family)"
      ],
      "metadata": {
        "id": "O13ZJkJgj3na"
      },
      "execution_count": null,
      "outputs": []
    },
    {
      "cell_type": "markdown",
      "source": [
        "## Samples"
      ],
      "metadata": {
        "id": "rLnRSH18oUkv"
      }
    },
    {
      "cell_type": "code",
      "source": [
        "__curve = [densecurves.hilbert.point(__i, order=4, rank=3) for __i in range(4096)]\n",
        "__curve = list(zip(*__curve))"
      ],
      "metadata": {
        "id": "Ithv0-k7wrrz"
      },
      "execution_count": null,
      "outputs": []
    },
    {
      "cell_type": "code",
      "source": [
        "__colors = tf.cast(rgb([WIKI_SAMPLE[:4096]]), dtype=tf.int32)\n",
        "__colors = mlable.shaping.hilbert.fold(__colors, axis=1, order=4, rank=3)"
      ],
      "metadata": {
        "id": "06p0_6YkwoHe"
      },
      "execution_count": null,
      "outputs": []
    },
    {
      "cell_type": "code",
      "source": [
        "__text = tf.cast(list(WIKI_SAMPLE[:4096]), dtype=tf.string)\n",
        "__text = mlable.shaping.hilbert.fold(__text, axis=0, order=4, rank=3)\n",
        "__text = [[[__h.decode('utf-8') for __h in __c] for __c in __r] for __r in __text.numpy().tolist()]"
      ],
      "metadata": {
        "id": "9_bR6px2wpfW"
      },
      "execution_count": null,
      "outputs": []
    },
    {
      "cell_type": "code",
      "source": [
        "with PlotContext(rows=1, cols=3, zoom=(16, 16), meta=False, subplot_kw={'projection': '3d'}) as (__fig, __axes):\n",
        "    matshow3d(axes=__axes[0], curve=__curve[::-1], cmap='plasma')\n",
        "    matshow3d(axes=__axes[1], text=__text, curve=__curve[::-1], cmap='plasma')\n",
        "    matshow3d(axes=__axes[2], data=__colors[0].numpy() / 255.)"
      ],
      "metadata": {
        "id": "1sTbq87yS4Fs"
      },
      "execution_count": null,
      "outputs": []
    },
    {
      "cell_type": "code",
      "source": [
        "__curve = [densecurves.hilbert.point(__i, order=3, rank=3) for __i in range(512)]\n",
        "__curve = list(zip(*__curve))\n",
        "with PlotContext(rows=1, cols=1, zoom=(8, 8), meta=False, subplot_kw={'projection': '3d'}) as (__fig, __axes):\n",
        "    matshow3d(axes=__axes, curve=__curve[::-1], cmap='plasma')"
      ],
      "metadata": {
        "id": "ACOIAhflhKCm"
      },
      "execution_count": null,
      "outputs": []
    },
    {
      "cell_type": "code",
      "source": [
        "__colors = [[[[__r, __g, __b] for __b in range(256)] for __g in range(256)] for __r in range(256)]\n",
        "__colors = np.array(__colors, dtype=np.uint8)"
      ],
      "metadata": {
        "id": "uOTtj1Ovh72k"
      },
      "execution_count": null,
      "outputs": []
    },
    {
      "cell_type": "code",
      "source": [
        "# with PlotContext(rows=1, cols=1, zoom=(8, 8), meta=False, subplot_kw={'projection': '3d'}) as (__fig, __axes):\n",
        "#     matshow3d(axes=__axes, data=__colors / 255.)"
      ],
      "metadata": {
        "id": "PxJjbDhaiO3d"
      },
      "execution_count": null,
      "outputs": []
    },
    {
      "cell_type": "markdown",
      "source": [
        "## Filter The Dataset"
      ],
      "metadata": {
        "id": "AN5SpgY_TDwl"
      }
    },
    {
      "cell_type": "code",
      "source": [
        "__x, __y, __z = np.indices((4, 4, 4))"
      ],
      "metadata": {
        "id": "7HXf_55ezVra"
      },
      "execution_count": null,
      "outputs": []
    },
    {
      "cell_type": "code",
      "source": [
        "def _filter(sample: dict, pattern: str=r'width (\\d+),') -> bool:\n",
        "    __option = tf.strings.split(sample['labels'], sep=',')\n",
        "    __width = tf.strings.substr(__option[0], pos=6, len=4)\n",
        "    return tf.strings.to_number(__width, tf.int32) <= 64"
      ],
      "metadata": {
        "id": "MIUjuRzHC4Qo"
      },
      "execution_count": null,
      "outputs": []
    },
    {
      "cell_type": "code",
      "source": [
        "__d = DATASETS['ft-asciiart-images'].filter(_filter)"
      ],
      "metadata": {
        "id": "94uQ4sVzCsA7"
      },
      "execution_count": null,
      "outputs": []
    },
    {
      "cell_type": "code",
      "source": [
        "__i = iter(__d)"
      ],
      "metadata": {
        "id": "mt5IfYHNHP81"
      },
      "execution_count": null,
      "outputs": []
    },
    {
      "cell_type": "code",
      "source": [
        "__s = next(__i)\n",
        "__d = __s['caption'].numpy().decode('utf-8')\n",
        "__l = __s['labels'].numpy().decode('utf-8')\n",
        "__t = split(__s['content'].numpy().decode('utf-8'), width=-1, separator='\\n')\n",
        "__x = rgb(__t)\n",
        "__y = 32 * np.ones(__x.shape, dtype=np.int32)\n",
        "print('{} | {}'.format(__d, __l))\n",
        "with PlotContext(rows=1, cols=3, zoom=(10, 10), meta=False) as (__fig, __axes):\n",
        "    matshow(data=__y, text=__t, axes=__axes[0])\n",
        "    matshow(data=__x, axes=__axes[1])\n",
        "    matshow(data=__x, text=__t, axes=__axes[-1])"
      ],
      "metadata": {
        "id": "9bffthhvOBzA"
      },
      "execution_count": null,
      "outputs": []
    }
  ],
  "metadata": {
    "kernelspec": {
      "display_name": "Python 3",
      "name": "python3"
    },
    "language_info": {
      "name": "python"
    },
    "colab": {
      "provenance": [],
      "machine_shape": "hm"
    }
  },
  "nbformat": 4,
  "nbformat_minor": 0
}