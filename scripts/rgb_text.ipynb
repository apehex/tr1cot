{
  "cells": [
    {
      "cell_type": "markdown",
      "source": [
        "# Setup"
      ],
      "metadata": {
        "id": "-hq7XkJnGLnQ"
      }
    },
    {
      "cell_type": "markdown",
      "source": [
        "## Install Dependencies"
      ],
      "metadata": {
        "id": "BWzBT6DRGREv"
      }
    },
    {
      "cell_type": "code",
      "source": [
        "!pip install -U datasets densecurves mlable"
      ],
      "metadata": {
        "id": "OybN9KpxG7Hh"
      },
      "execution_count": null,
      "outputs": []
    },
    {
      "cell_type": "markdown",
      "source": [
        "## Import Dependencies"
      ],
      "metadata": {
        "id": "GKpIEv2qGOPT"
      }
    },
    {
      "cell_type": "code",
      "source": [
        "%matplotlib inline"
      ],
      "metadata": {
        "id": "3q51rMy2G5mB"
      },
      "execution_count": null,
      "outputs": []
    },
    {
      "cell_type": "code",
      "execution_count": null,
      "metadata": {
        "id": "zEcgik_qFoMI"
      },
      "outputs": [],
      "source": [
        "import functools\n",
        "import math\n",
        "\n",
        "import matplotlib as mpl\n",
        "import matplotlib.axes as mpa\n",
        "import matplotlib.colors as mpc\n",
        "import matplotlib.pyplot as mpp\n",
        "import PIL as pl\n",
        "\n",
        "import datasets as hd\n",
        "import numpy as np\n",
        "import tensorflow as tf\n",
        "\n",
        "import mlable.shaping.hilbert\n",
        "import mlable.utils"
      ]
    },
    {
      "cell_type": "markdown",
      "source": [
        "## Config"
      ],
      "metadata": {
        "id": "1FldltN-SgkB"
      }
    },
    {
      "cell_type": "code",
      "source": [
        "# PLOT #########################################################################\n",
        "\n",
        "PLOT_CONFIG = {\n",
        "    'family': ['DejaVu Sans', 'Noto Sans CJK JP', 'Noto Sans TC'],\n",
        "    'norm': mpc.Normalize(vmin=0, vmax=10), # mc.Normalize(vmin=0, vmax=10),\n",
        "    'cmap': mpc.ListedColormap(['#000000', '#0074D9','#FF4136','#2ECC40','#FFDC00', '#AAAAAA', '#F012BE', '#FF851B', '#7FDBFF', '#870C25', '#FFFFFF']),} # mpl.colormaps['binary'],}"
      ],
      "metadata": {
        "id": "Hto3r6k1TAEf"
      },
      "execution_count": null,
      "outputs": []
    },
    {
      "cell_type": "code",
      "source": [
        "# DATASETS #####################################################################\n",
        "\n",
        "DATASETS_CONFIG = {\n",
        "    # 'cot-text-openthoughts': {\n",
        "    #     'path': 'open-thoughts/OpenThoughts-114k',\n",
        "    #     'name': 'default',\n",
        "    #     'splits': [f'train[{__p}%:{__p + 10}%]' for __p in range(0, 100, 10)],\n",
        "    #     'features': ['problem', 'solution'],},\n",
        "    'ft-asciiart-asciiart': {\n",
        "        'path': 'apehex/ascii-art',\n",
        "        'name': 'asciiart',\n",
        "        'splits': [f'train[{__p}%:{__p + 9}%]' for __p in range(0, 100, 10)],\n",
        "        'features': ['content'],},\n",
        "    'ft-asciiart-copypasta': {\n",
        "        'path': 'apehex/ascii-art',\n",
        "        'name': 'copypasta',\n",
        "        'splits': [f'train[{__p}%:{__p + 9}%]' for __p in range(0, 100, 10)],\n",
        "        'features': ['content'],},\n",
        "    # 'ft-asciiart-graffiti': {\n",
        "    #     'path': 'apehex/ascii-art',\n",
        "    #     'name': 'graffiti',\n",
        "    #     'splits': [f'train[{__p}%:{__p + 9}%]' for __p in range(0, 100, 10)],\n",
        "    #     'features': ['content'],},\n",
        "    'ft-asciiart-images': {\n",
        "        'path': 'apehex/ascii-art',\n",
        "        'name': 'images',\n",
        "        'splits': [f'train[{__p}%:{__p + 9}%]' for __p in range(0, 100, 10)],\n",
        "        'features': ['content'],},\n",
        "    # 'ft-asciiart-datacompdr': {\n",
        "    #     'path': 'apehex/ascii-art-datacompdr-12m',\n",
        "    #     'name': 'default',\n",
        "    #     'splits': [f'train[{__p}%:{__p + 9}%]' for __p in range(0, 100, 10)],\n",
        "    #     'features': ['content'],},\n",
        "    # 'cot-math-numi': {\n",
        "    #     'path': 'AI-MO/NuminaMath-CoT',\n",
        "    #     'name': None,\n",
        "    #     'splits': [f'train[{__p}%:{__p + 10}%]' for __p in range(0, 100, 10)],\n",
        "    #     'features': ['problem', 'solution'],},\n",
        "}"
      ],
      "metadata": {
        "id": "AukPTFLHvWe-"
      },
      "execution_count": null,
      "outputs": []
    },
    {
      "cell_type": "code",
      "source": [
        "# SAMPLES ######################################################################\n",
        "\n",
        "WIKI_SAMPLE = \"\"\"Hilbert curve\\n\\nThe Hilbert curve (also known as the Hilbert space-filling curve) is a continuous fractal space-filling curve first described by the German mathematician David Hilbert in 1891,[1] as a variant of the space-filling Peano curves discovered by Giuseppe Peano in 1890.[2]\\n\\nBecause it is space-filling, its Hausdorff dimension is 2 (precisely, its image is the unit square, whose dimension is 2 in any definition of dimension; its graph is a compact set homeomorphic to the closed unit interval, with Hausdorff dimension 1).\\n\\nThe Hilbert curve is constructed as a limit of piecewise linear curves. The length of the {\\\\displaystyle n}th curve is {\\\\displaystyle \\\\textstyle 2^{n}-{1 \\\\over 2^{n}}}, i.e., the length grows exponentially with {\\\\displaystyle n}, even though each curve is contained in a square with area {\\\\displaystyle 1}.\\n\\nImages\\n\\nFirst six iterations of the Hilbert curve\\n\\nHilbert curve, first order\\n\\nHilbert curves, first and second orders\\n\\nHilbert curves, first to third orders\\n\\nProduction rules\\n\\nHilbert curve, construction color-coded\\n\\nA 3-D Hilbert curve with color showing progression\\n\\nVariant, first three iterations[3]\\n\\nApplications and mapping algorithms\\n\\nBoth the true Hilbert curve and its discrete approximations are useful because they give a mapping between 1D and 2D space that preserves locality fairly well.[4] This means that two data points which are close to each other in one-dimensional space are also close to each other after folding. The converse cannot always be true.\\n\\nBecause of this locality property, the Hilbert curve is widely used in computer science. For example, the range of IP addresses used by computers can be mapped into a picture using the Hilbert curve. Code to generate the image would map from 2D to 1D to find the color of each pixel, and the Hilbert curve is sometimes used because it keeps nearby IP addresses close to each other in the picture.[5] The locality property of the Hilbert curve has also been used to design algorithms for exploring regions with mobile robots[6][7] and indexing geospatial location data.[8]\\n\\nIn an algorithm called Riemersma dithering, grayscale photographs can be converted to a dithered black-and-white image using thresholding, with the leftover amount from each pixel added to the next pixel along the Hilbert curve. Code to do this would map from 1D to 2D, and the Hilbert curve is sometimes used because it does not create the distracting patterns that would be visible to the eye if the order were simply left to right across each row of pixels.[9] Hilbert curves in higher dimensions are an instance of a generalization of Gray codes, and are sometimes used for similar purposes, for similar reasons. For multidimensional databases, Hilbert order has been proposed to be used instead of Z order because it has better locality-preserving behavior. For example, Hilbert curves have been used to compress and accelerate R-tree indexes[10] (see Hilbert R-tree). They have also been used to help compress data warehouses.[11][12]\\n\\nThe linear distance of any point along the curve can be converted to coordinates in n dimensions for a given n, and vice versa, using any of several standard mathematical techniques such as Skilling\\'s method.[13][14]\\n\\nIt is possible to implement Hilbert curves efficiently even when the data space does not form a square.[15] Moreover, there are several possible generalizations of Hilbert curves to higher dimensions.[16][17]\\n\\nRepresentation as Lindenmayer system\\n\\nThe Hilbert Curve can be expressed by a rewrite system (L-system).\\n\\nDuration: 52 seconds.0:52\\nHilbert curve at its sixth iteration\\nAlphabet : A, B\\nConstants : F + −\\nAxiom : A\\nProduction rules:\\nA → +BF−AFA−FB+\\nB → −AF+BFB+FA−\\nHere, \"F\" means \"draw forward\", \"+\" means \"turn left 90°\", \"-\" means \"turn right 90°\" (see turtle graphics), and \"A\" and \"B\" are ignored during drawing.\\n\\nOther implementations\\n\\nGraphics Gems II[18][promotion?] discusses Hilbert curve coherency, and provides implementation.\\n\\nThe Hilbert Curve is commonly used among rendering images or videos. Common programs such as Blender and Cinema 4D use the Hilbert Curve to trace the objects, and render the scene.[citation needed]\\n\\nThe slicer software used to convert 3D models into toolpaths for a 3D printer typically has the Hilbert curve as an option for an infill pattern.\\n\"\"\"\n",
        "KOREAN_SAMPLE = \"\"\"힐베르트 곡선\\n\\n힐베르트 곡선(힐베르트 공간 충만 곡선이라고도 함)은 독일 수학자 다비드 힐베르트가 1891년 처음으로 기술한 연속적인 프랙탈 공간 충만 곡선으로,[1] 1890년 주세페 페아노가 발견한 공간 충만 페아노 곡선의 변형입니다.[2]\\n\\n공간 충만 곡선이므로 하우스도르프 차원은 2입니다. (정확히 말하면, 그 이미지는 차원의 어떤 정의에서도 차원이 2인 단위 정사각형입니다. 그래프는 하우스도르프 차원이 1인 닫힌 단위 구간과 동형인 콤팩트 집합입니다.)\\n\\n힐베르트 곡선은 구간별 선형 곡선의 극한으로 구성됩니다. {\\\\displaystyle n}번째 곡선의 길이는 {\\\\displaystyle \\\\textstyle 2^{n}-{1 \\\\over 2^{n}}}입니다. 즉, 각 곡선이 면적 {\\\\displaystyle 1}인 정사각형에 포함되어 있음에도 불구하고 길이는 {\\\\displaystyle n}에 따라 기하급수적으로 증가합니다.\\n\\n이미지\\n\\n힐버트 곡선의 처음 여섯 번 반복\\n\\n힐버트 곡선, 1차\\n\\n힐버트 곡선, 1차 및 2차\\n\\n힐버트 곡선, 1차~3차\\n\\n생성 규칙\\n\\n힐버트 곡선, 색상으로 구분\\n\\n진행을 나타내는 색상이 있는 3차원 힐버트 곡선\\n\\n변형, 처음 세 번 반복[3]\\n\\n응용 프로그램 및 매핑 알고리즘\\n\\n진 힐버트 곡선과 이산 근사 모두 국소성을 상당히 잘 보존하는 1차원과 2차원 공간 간의 매핑을 제공하기 때문에 유용합니다.[4] 이는 1차원 공간에서 서로 가까운 두 데이터 점은 접힘 후에도 서로 가깝다는 것을 의미합니다. 그 반대는 항상 성립할 수 없습니다.\\n\\n이러한 국소성 때문에 힐버트 곡선은 컴퓨터 과학에서 널리 사용됩니다. 예를 들어, 컴퓨터가 사용하는 IP 주소 범위를 힐버트 곡선을 사용하여 그림으로 매핑할 수 있습니다. 이미지를 생성하는 코드는 각 픽셀의 색상을 찾기 위해 2차원에서 1차원으로 매핑하며, 힐버트 곡선은 그림에서 인접한 IP 주소를 서로 가깝게 유지하기 때문에 때때로 사용됩니다.[5] 힐버트 곡선의 국소성 속성은 모바일 로봇을 이용한 지역 탐색[6][7] 및 지리공간 위치 데이터 색인화 알고리즘 설계에도 사용되었습니다.[8]\\n\\n리머스마 디더링이라는 알고리즘에서는 임계값 처리를 사용하여 회색조 사진을 디더링된 흑백 이미지로 변환할 수 있으며, 각 픽셀의 남은 부분은 힐버트 곡선을 따라 다음 픽셀에 추가됩니다. 이를 위한 코드는 1차원에서 2차원으로 매핑되며, 힐버트 곡선은 각 픽셀 행에 걸쳐 단순히 왼쪽에서 오른쪽으로만 순서를 정할 경우 눈에 거슬리는 패턴을 생성하지 않기 때문에 때때로 사용됩니다.[9] 고차원의 힐버트 곡선은 그레이 코드의 일반화 사례이며, 유사한 목적과 이유로 때때로 사용됩니다. 다차원 데이터베이스의 경우, Z 차수 대신 힐버트 차수가 더 나은 지역성 보존 동작을 제공하기 때문에 이를 사용하는 것이 제안되었습니다. 예를 들어, 힐버트 곡선은 R-트리 인덱스[10]를 압축하고 가속화하는 데 사용되었습니다(힐버트 R-트리 참조). 또한 데이터웨어하우스 압축에도 사용되었습니다.[11][12]\\n\\n곡선을 따라 임의의 점의 선형 거리는 스킬링 방법[13][14]과 같은 여러 표준 수학적 기법을 사용하여 주어진 n에 대해 n차원 좌표로 변환할 수 있으며, 그 반대로도 가능합니다.\\n\\n데이터 공간이 정사각형을 이루지 않더라도 힐베르트 곡선을 효율적으로 구현할 수 있습니다.[15] 또한, 힐베르트 곡선을 고차원으로 일반화하는 여러 가지 방법이 있습니다.[16][17]\\n\\n린덴마이어 체계로 표현\\n\\n힐베르트 곡선은 재작성 체계(L-체계)로 표현할 수 있습니다.\\n\\n재생 시간: 52초. 0:52\\n여섯 번째 반복에서의 힐베르트 곡선\\n알파벳: A, B\\n상수: F + −\\n공리: A\\n생성 규칙:\\nA → +BF−AFA−FB+\\nB → −AF+BFB+FA−\\n여기서 \"F\"는 \"앞으로 그리기\", \"+\"는 \"좌회전 90°\", \"-\"는 \"우회전 90°\"를 의미합니다(거북이 그림 참조). 그리고 \"A\"와 \"B\"는 그리는 동안 무시됩니다.\\n\\n기타 구현\\n\\nGraphics Gems II[18][홍보?]에서 힐버트 곡선의 일관성에 대해 논의하고 구현 방법을 제공합니다.\\n\\n힐버트 곡선은 이미지나 비디오를 렌더링할 때 일반적으로 사용됩니다. Blender나 Cinema 4D와 같은 일반적인 프로그램은 힐버트 곡선을 사용하여 객체를 추적하고 장면을 렌더링합니다.[인용 필요]\\n\\n3D 모델을 3D 프린터용 툴패스로 변환하는 데 사용되는 슬라이서 소프트웨어는 일반적으로 힐버트 곡선을 채우기 패턴 옵션으로 제공합니다.\"\"\"\n",
        "ART_SAMPLE = \"\"\"⢕⢕⢕⢕⢕⢕⢕⢕⢕⢕⢕⢕⢕⢕⢕⢕⢕⢕⢕⢕⢕⢕⠕⠕⠕⠕⢕⢕\\n⢕⢕⢕⢕⢕⠕⠕⢕⢕⢕⢕⢕⢕⢕⢕⢕⢕⠕⠁⣁⣠⣤⣤⣤⣶⣦⡄⢑\\n⢕⢕⢕⠅⢁⣴⣤⠀⣀⠁⠑⠑⠁⢁⣀⣀⣀⣀⣘⢻⣿⣿⣿⣿⣿⡟⢁⢔\\n⢕⢕⠕⠀⣿⡁⠄⠀⣹⣿⣿⣿⡿⢋⣥⠤⠙⣿⣿⣿⣿⣿⡿⠿⡟⠀⢔⢕\\n⢕⠕⠁⣴⣦⣤⣴⣾⣿⣿⣿⣿⣇⠻⣇⠐⠀⣼⣿⣿⣿⣿⣿⣄⠀⠐⢕⢕\\n⠅⢀⣾⣿⣿⣿⣿⣿⣿⣿⣿⣿⣿⣷⣶⣶⣿⣿⣿⣿⣿⣿⣿⣿⣷⡄⠐⢕\\n⠀⢸⣿⣿⣿⣿⣿⣿⣿⣿⣿⣿⣿⣿⣿⣿⣿⣿⣿⣿⣿⣿⣿⣿⣿⣿⡄⠐\\n⢄⠈⢿⣿⣿⣿⣿⣿⣿⣿⣿⣿⣿⣿⣿⣿⣿⣿⣿⣿⣿⣿⣿⣿⣿⣿⣿⡆\\n⢕⢔⠀⠈⠛⠿⣿⣿⣿⣿⣿⣿⣿⣿⣿⣿⣿⣿⣿⣿⣿⣿⣿⣿⣿⣿⣿⣿\\n⢕⢕⢄⠈⠳⣶⣶⣶⣤⣤⣤⣤⣭⡍⢭⡍⢨⣯⡛⢿⣿⣿⣿⣿⣿⣿⣿⣿\\n⢕⢕⢕⢕⠀⠈⠛⠿⢿⣿⣿⣿⣿⣿⣦⣤⣿⣿⣿⣦⣈⠛⢿⢿⣿⣿⣿⣿\\n⢕⢕⢕⠁⢠⣾⣶⣾⣭⣖⣛⣿⠿⣿⣿⣿⣿⣿⣿⣿⣿⣷⡆⢸⣿⣿⣿⡟\\n⢕⢕⠅⢀⣾⣿⣿⣿⣿⣿⣿⣿⣿⣿⣿⣿⣿⣿⣿⣿⣿⡿⠟⠈⢿⣿⣿⡇\\n⢕⠕⠀⠼⠟⢉⣉⡙⠻⠿⢿⣿⣿⣿⣿⣿⡿⢿⣛⣭⡴⠶⠶⠂⠀⠿⠿⠇\"\"\""
      ],
      "metadata": {
        "id": "hRwevikKiQpn"
      },
      "execution_count": null,
      "outputs": []
    },
    {
      "cell_type": "markdown",
      "source": [
        "## Download The Datasets"
      ],
      "metadata": {
        "id": "gfzuwdoaIND6"
      }
    },
    {
      "cell_type": "code",
      "source": [
        "# DOWNLOAD #####################################################################\n",
        "\n",
        "DATASETS = {\n",
        "    __name: [\n",
        "        hd.load_dataset(path=__args['path'], name=__args['name'], split=__s).to_tf_dataset(shuffle=True, batch_size=None)\n",
        "        for __s in __args['splits']]\n",
        "    for __name, __args in DATASETS_CONFIG.items()}"
      ],
      "metadata": {
        "id": "Hg_e1H7FIPtN"
      },
      "execution_count": null,
      "outputs": []
    },
    {
      "cell_type": "markdown",
      "source": [
        "## Preprocess The Datasets"
      ],
      "metadata": {
        "id": "4UmkL6D1Lcpu"
      }
    },
    {
      "cell_type": "code",
      "source": [
        "# REMOVE COLOR CODES ###########################################################\n",
        "\n",
        "ANSI_REGEX = r'\\x1b\\[[0-9;]*[mGKHF]'\n",
        "\n",
        "clean = functools.partial(tf.strings.regex_replace, pattern=ANSI_REGEX, rewrite='', replace_global=True)\n",
        "\n",
        "def preprocess(sample: dict, operator: callable, targets: list) -> tf.Tensor:\n",
        "    return {\n",
        "        __k: operator(__v) if __k in targets else __v\n",
        "        for __k, __v in sample.items()}"
      ],
      "metadata": {
        "id": "Ovm-XnYquFKZ"
      },
      "execution_count": null,
      "outputs": []
    },
    {
      "cell_type": "code",
      "source": [
        "# ITERATE ######################################################################\n",
        "\n",
        "for __name in DATASETS:\n",
        "    # specialized preprocessing fn\n",
        "    __preprocess = functools.partial(preprocess, operator=clean, targets=DATASETS_CONFIG[__name]['features'])\n",
        "    # apply\n",
        "    for __idx in range(len(DATASETS[__name])):\n",
        "        DATASETS[__name][__idx] = DATASETS[__name][__idx].map(__preprocess, num_parallel_calls=tf.data.AUTOTUNE)"
      ],
      "metadata": {
        "id": "F41CQCs55_Co"
      },
      "execution_count": null,
      "outputs": []
    },
    {
      "cell_type": "markdown",
      "source": [
        "# RGB Text"
      ],
      "metadata": {
        "id": "L2iy6C6fHmqn"
      }
    },
    {
      "cell_type": "markdown",
      "source": [
        "## Encoding"
      ],
      "metadata": {
        "id": "li5doqcqevqU"
      }
    },
    {
      "cell_type": "code",
      "source": [
        "# RGB ENCODING #################################################################\n",
        "\n",
        "def rgb(rows: list) -> np.ndarray:\n",
        "    __height, __width = len(rows), len(rows[0])\n",
        "    # each character is encoded as 4 bytes\n",
        "    __rows = [list(__r.encode('utf-32-be')) for __r in rows]\n",
        "    # 2d reshaping\n",
        "    __array = np.array(__rows, dtype=np.uint8).reshape((__height, __width, 4))\n",
        "    # strip the leading byte, always null in utf-32 (big-endian)\n",
        "    return __array[..., 1:]"
      ],
      "metadata": {
        "id": "mGLiuWOXsZAD"
      },
      "execution_count": null,
      "outputs": []
    },
    {
      "cell_type": "markdown",
      "source": [
        "## Display"
      ],
      "metadata": {
        "id": "Ay0wqMyYZIFa"
      }
    },
    {
      "cell_type": "code",
      "source": [
        "# CONTEXT ######################################################################\n",
        "\n",
        "class PlotContext:\n",
        "    def __init__(self, rows: int, cols: int, zoom: iter=(4, 4), meta: bool=True) -> None:\n",
        "        self._rows = rows\n",
        "        self._cols = cols\n",
        "        self._zoom = zoom\n",
        "        self._meta = meta\n",
        "        self._size = (zoom[0] * cols, zoom[-1] * rows)\n",
        "        self._figure = None\n",
        "        self._axes = None\n",
        "\n",
        "    def __enter__(self) -> tuple:\n",
        "        self._figure, self._axes = mpp.subplots(nrows=self._rows, ncols=self._cols, figsize=self._size)\n",
        "        # toggle the lines\n",
        "        for __a in self._figure.axes:\n",
        "            __a.get_xaxis().set_visible(self._meta)\n",
        "            __a.get_yaxis().set_visible(self._meta)\n",
        "        # return to the execution env\n",
        "        return (self._figure, self._axes)\n",
        "\n",
        "    def __exit__(self, exc_type: any, exc_value: any, traceback: any) -> None:\n",
        "        mpp.tight_layout()\n",
        "        mpp.show()"
      ],
      "metadata": {
        "id": "SIgse5le_CXe"
      },
      "execution_count": null,
      "outputs": []
    },
    {
      "cell_type": "code",
      "source": [
        "# IMAGE WITH CAPTION OVERLAY ###################################################\n",
        "\n",
        "def matshow(data: np.ndarray, axes: mpa.Axes, legends: iter=(), family: iter=None, cmap: mpc.Colormap=None) -> None:\n",
        "    # image like display of an array\n",
        "    axes.matshow(data, cmap=cmap)\n",
        "    # add a text overlay\n",
        "    for __j in range(len(legends)):\n",
        "        for __i in range(len(legends[__j])):\n",
        "            if legends[__j][__i] not in ' \\x00':\n",
        "                axes.text(__i, __j, str(legends[__j][__i]), va='center', ha='center', color='white', family=family)"
      ],
      "metadata": {
        "id": "nBjAnGinZJyR"
      },
      "execution_count": null,
      "outputs": []
    },
    {
      "cell_type": "markdown",
      "source": [
        "## Samples"
      ],
      "metadata": {
        "id": "qqcpjNY7LfcA"
      }
    },
    {
      "cell_type": "code",
      "source": [
        "# ENGLISH ######################################################################\n",
        "\n",
        "__s = [WIKI_SAMPLE[:64]]\n",
        "__x = rgb(__s)\n",
        "with PlotContext(rows=1, cols=1, zoom=(16, 16), meta=False) as (__fig, __axes):\n",
        "    matshow(data=__x, axes=__axes)\n",
        "with PlotContext(rows=1, cols=1, zoom=(16, 16), meta=False) as (__fig, __axes):\n",
        "    matshow(data=__x, legends=__s, axes=__axes)"
      ],
      "metadata": {
        "id": "6D2x01yu9nox"
      },
      "execution_count": null,
      "outputs": []
    },
    {
      "cell_type": "code",
      "source": [
        "# KOREAN #######################################################################\n",
        "\n",
        "__s = [KOREAN_SAMPLE[:64],]\n",
        "__x = rgb(__s)\n",
        "with PlotContext(rows=1, cols=1, zoom=(16, 16), meta=False) as (__fig, __axes):\n",
        "    matshow(data=__x, axes=__axes)"
      ],
      "metadata": {
        "id": "4jEwmq2OFYOy"
      },
      "execution_count": null,
      "outputs": []
    },
    {
      "cell_type": "markdown",
      "source": [
        "## Attention Patterns"
      ],
      "metadata": {
        "id": "rUuBD2aqLDGW"
      }
    },
    {
      "cell_type": "code",
      "source": [
        "# single sequence axis: dimension of 10k to 10M tokens"
      ],
      "metadata": {
        "id": "SEA_2A2XLFj5"
      },
      "execution_count": null,
      "outputs": []
    },
    {
      "cell_type": "markdown",
      "source": [
        "# 2D Text (Naive Approach)"
      ],
      "metadata": {
        "id": "AiobnSwuTcw6"
      }
    },
    {
      "cell_type": "markdown",
      "source": [
        "## Format"
      ],
      "metadata": {
        "id": "fdruSQngI-YF"
      }
    },
    {
      "cell_type": "code",
      "source": [
        "# 1D => 2D #####################################################################\n",
        "\n",
        "def split(text: str, height: int=-1, width: int=-1, separator: str='') -> list:\n",
        "    # typically split on \\n or at a fixed size\n",
        "    __rows = text.split(separator) if separator else mlable.utils.chunk(text, width)\n",
        "    # :width would leave one character out when width == -1\n",
        "    __width = slice(width if (width > 0) else None)\n",
        "    # idem fro the height\n",
        "    __height = slice(height if (height > 0) else None)\n",
        "    # enforce the maximum dimensions\n",
        "    return [__r[__width] for __r in __rows[__height] if __r]"
      ],
      "metadata": {
        "id": "6FCRS7bTxcZV"
      },
      "execution_count": null,
      "outputs": []
    },
    {
      "cell_type": "code",
      "source": [
        "# FILL ROWS ####################################################################\n",
        "\n",
        "def pad(rows: list, width: int, value: str='\\x00') -> list:\n",
        "    return [__r + (width - len(__r)) * value for __r in rows]"
      ],
      "metadata": {
        "id": "93tasUie1Uh5"
      },
      "execution_count": null,
      "outputs": []
    },
    {
      "cell_type": "markdown",
      "source": [
        "## Samples"
      ],
      "metadata": {
        "id": "tZtRyr3_JGhT"
      }
    },
    {
      "cell_type": "code",
      "source": [
        "# ASCII ART ####################################################################\n",
        "\n",
        "__s = pad(split(ART_SAMPLE.replace('\\n', ''), width=28, separator=''), width=28)\n",
        "__x = rgb(__s)\n",
        "with PlotContext(rows=1, cols=2, zoom=(5, 5), meta=False) as (__fig, __axes):\n",
        "    matshow(data=__x, axes=__axes[0])\n",
        "    matshow(data=__x, legends=__s, axes=__axes[-1])"
      ],
      "metadata": {
        "id": "QzTL7M2Copeb"
      },
      "execution_count": null,
      "outputs": []
    },
    {
      "cell_type": "code",
      "source": [
        "# MORE AA ######################################################################\n",
        "\n",
        "__i = iter(DATASETS['ft-asciiart-images'][0])"
      ],
      "metadata": {
        "id": "u7RgKdBtthVR"
      },
      "execution_count": null,
      "outputs": []
    },
    {
      "cell_type": "code",
      "source": [
        "__s = split(next(__i)['content'].numpy().decode('utf-8'), width=-1, separator='\\n')\n",
        "__x = rgb(__s)\n",
        "with PlotContext(rows=1, cols=2, zoom=(16, 16), meta=False) as (__fig, __axes):\n",
        "    matshow(data=__x, axes=__axes[0])\n",
        "    matshow(data=__x, legends=__s, axes=__axes[-1])"
      ],
      "metadata": {
        "id": "M8U7FqnTpvdY"
      },
      "execution_count": null,
      "outputs": []
    },
    {
      "cell_type": "code",
      "source": [
        "# SPLIT ON NEWLINES ############################################################\n",
        "\n",
        "__s = pad(split(WIKI_SAMPLE, width=64, separator='\\n'), width=64)\n",
        "__x = rgb(__s)\n",
        "with PlotContext(rows=1, cols=2, zoom=(16, 16), meta=False) as (__fig, __axes):\n",
        "    matshow(data=__x, axes=__axes[0])\n",
        "    matshow(data=__x, legends=__s, axes=__axes[-1])"
      ],
      "metadata": {
        "id": "P6NAxVNFsRSZ"
      },
      "execution_count": null,
      "outputs": []
    },
    {
      "cell_type": "code",
      "source": [
        "# KOREAN #######################################################################\n",
        "\n",
        "__s = pad(split(KOREAN_SAMPLE, width=64, separator='\\n'), width=64)\n",
        "__x = rgb(__s)\n",
        "with PlotContext(rows=1, cols=2, zoom=(16, 16), meta=False) as (__fig, __axes):\n",
        "    matshow(data=__x, axes=__axes[0])\n",
        "    matshow(data=__x, legends=__s, axes=__axes[-1])"
      ],
      "metadata": {
        "id": "ncpRlAbWn-Kq"
      },
      "execution_count": null,
      "outputs": []
    },
    {
      "cell_type": "code",
      "source": [
        "# FIXED SIZE CHUNKS ############################################################\n",
        "\n",
        "__s = pad(split(WIKI_SAMPLE, width=64, separator=''), width=64)\n",
        "__x = rgb(__s)\n",
        "with PlotContext(rows=1, cols=2, zoom=(16, 16), meta=False) as (__fig, __axes):\n",
        "    matshow(data=__x, axes=__axes[0])\n",
        "    matshow(data=__x, legends=__s, axes=__axes[-1])"
      ],
      "metadata": {
        "id": "VYrOUbBcjYKn"
      },
      "execution_count": null,
      "outputs": []
    },
    {
      "cell_type": "markdown",
      "source": [
        "## Attention Patterns"
      ],
      "metadata": {
        "id": "Bhdpp-59TJ8p"
      }
    },
    {
      "cell_type": "code",
      "source": [
        "# height and width attention\n",
        "# correlated on ASCII art\n",
        "# width attention is meaningful\n",
        "# height attention has a discontinuity\n",
        "# could be bridged layer by layer as the perception field extends and also merges\n",
        "# ideally: all the characters (tokens) in an area should be related"
      ],
      "metadata": {
        "id": "szdEj30EgZKd"
      },
      "execution_count": null,
      "outputs": []
    },
    {
      "cell_type": "markdown",
      "source": [
        "# Text Along The Hilbert Curve"
      ],
      "metadata": {
        "id": "pfAU0lquTTu6"
      }
    },
    {
      "cell_type": "markdown",
      "source": [
        "## Visualizing The 1D Position"
      ],
      "metadata": {
        "id": "xGyyvJ78RUYW"
      }
    },
    {
      "cell_type": "code",
      "source": [
        "__overlay = tf.cast(list(WIKI_SAMPLE[:4096]), dtype=tf.string)\n",
        "__overlay = mlable.shaping.hilbert.fold(__overlay, axis=0, order=6, rank=2)\n",
        "__overlay = [[__c.decode('utf-8') for __c in __r] for __r in __overlay.numpy().tolist()]"
      ],
      "metadata": {
        "id": "EnEivOO1XiMz"
      },
      "execution_count": null,
      "outputs": []
    },
    {
      "cell_type": "code",
      "source": [
        "__position = tf.cast(range(4096), dtype=tf.int32)\n",
        "__position = mlable.shaping.hilbert.fold(__position, axis=0, order=6, rank=2)"
      ],
      "metadata": {
        "id": "OOGC6MmUX1qq"
      },
      "execution_count": null,
      "outputs": []
    },
    {
      "cell_type": "code",
      "source": [
        "__colors = tf.cast(rgb([WIKI_SAMPLE[:4096]]), dtype=tf.int32)\n",
        "__colors = mlable.shaping.hilbert.fold(__colors, axis=1, order=6, rank=2)"
      ],
      "metadata": {
        "id": "h63dLNE8u4hq"
      },
      "execution_count": null,
      "outputs": []
    },
    {
      "cell_type": "code",
      "source": [
        "with PlotContext(rows=1, cols=3, zoom=(16, 16), meta=False) as (__fig, __axes):\n",
        "    matshow(data=__position, axes=__axes[0], cmap='plasma')\n",
        "    matshow(data=__position, legends=__overlay, axes=__axes[1], cmap='plasma')\n",
        "    matshow(data=__colors[0], axes=__axes[-1])"
      ],
      "metadata": {
        "id": "y07Fy1If2WgQ"
      },
      "execution_count": null,
      "outputs": []
    },
    {
      "cell_type": "markdown",
      "source": [
        "## Visualizing The Encoding"
      ],
      "metadata": {
        "id": "AN5SpgY_TDwl"
      }
    },
    {
      "cell_type": "code",
      "execution_count": null,
      "metadata": {
        "id": "GmPRrZsxFoML"
      },
      "outputs": [],
      "source": [
        "N = 3\n",
        "\n",
        "def rotate_right(x, d):\n",
        "    \"\"\"Rotate x by d bits to the right.\"\"\"\n",
        "    d = d % N\n",
        "    out = x >> d\n",
        "    for i in range(d):\n",
        "        bit = (x & 2**i)>>i\n",
        "        out |= bit << (N+i-d)\n",
        "    return out\n",
        "\n",
        "def rotate_left(x, d):\n",
        "    \"\"\"Rotate x by d bits to the left.\"\"\"\n",
        "    d = d % N\n",
        "    out = x << d\n",
        "    excess = out\n",
        "    out = out & (2**N-1)\n",
        "    for i in range(d):\n",
        "        bit = (x & 2**(N-1-d+1+i))>> (N-1-d+1+i)\n",
        "        out |= bit << i\n",
        "    return out\n",
        "\n",
        "def bit_component(x, i):\n",
        "    \"\"\"Return i-th bit of x\"\"\"\n",
        "    return (x & 2**i) >> i"
      ]
    },
    {
      "cell_type": "code",
      "execution_count": null,
      "metadata": {
        "id": "ZZmnH_qhFoML"
      },
      "outputs": [],
      "source": [
        "print('AND  ', bin_str(1), '&', bin_str(5), '=', bin_str(1 & 5))\n",
        "print('OR   ', bin_str(1), '|', bin_str(5), '=', bin_str(1 | 5))\n",
        "print('XOR  ', bin_str(1), '^', bin_str(5), '=', bin_str(1 ^ 5))\n",
        "print('shift', bin_str(2), '>> 1  =', bin_str(2 >> 1))\n",
        "print('shift', bin_str(2), '<< 1  =', bin_str(2 << 1))\n",
        "print('rot  ', bin_str(1), '↻', bin_str(rotate_right(1, 1)), '↻',\n",
        "      bin_str(rotate_right(1,2)), '↻', bin_str(rotate_right(1,3)))\n",
        "print('NOT  ', bin_str(1), '      =', bin_str(~1 & 2**N-1))\n",
        "\n",
        "# verify that '~i & 2**N-1' performs the NOT operation in N-bit space\n",
        "for i in range(2**N):\n",
        "    not_i = ~i & 2**N-1\n",
        "    assert not_i >=0\n",
        "    assert not_i < 2**N\n",
        "    assert i & not_i == 0\n",
        "    assert i | not_i == 2**N-1"
      ]
    },
    {
      "cell_type": "markdown",
      "metadata": {
        "id": "RjaTcpcCFoMM"
      },
      "source": [
        "The technical reports describes with good details all the intermediate steps\n",
        "of the algorithm using binary operations and sequences.\n",
        "The gray code index of a number i, for instance, is given by\n",
        "gc(i) = i XOR (i ≫ 1).\n",
        "\n",
        "To understand the building of the Hilbert curve, other quantities are needed.\n",
        "The graphical representation use arrows in each sub-hypercube of the curve to\n",
        "represent the path.\n",
        "The definitions of the gray curve index and of the arrows is given and we use these\n",
        "defintions to illustrate the Hilbert curve afterwards.\n",
        "\n",
        "The interpretation of gc, e and f below is a binary representation in base N of the\n",
        "vertices of a hypercube (a square for N=2, a cube for N=3, etc).\n",
        "The bits represent the z, y and x coordinates."
      ]
    },
    {
      "cell_type": "code",
      "execution_count": null,
      "metadata": {
        "id": "L8P4mgKZFoMM"
      },
      "outputs": [],
      "source": [
        "# Build all edges of a square and of a cube\n",
        "\n",
        "edges = [((0,),(1,))]\n",
        "\n",
        "def add_edges(edges):\n",
        "    \"\"\"Extend the list of edges from an hypercube to the list of\n",
        "    edges of the hypercube of the next dimension.\"\"\"\n",
        "\n",
        "    old_edges = list(edges)\n",
        "    old_points = set( [x[0] for x in old_edges] ) | set( [x[1] for x in old_edges] )\n",
        "    edges = [ ( (0,)+x[0], (0,)+x[1] ) for x in old_edges ]\n",
        "    edges.extend( [ ( (1,)+x[0], (1,)+x[1] ) for x in old_edges ] )\n",
        "    for e in old_points:\n",
        "        edges.append( ( (0,)+e, (1,)+e) )\n",
        "\n",
        "    return edges\n",
        "\n",
        "square_edges = add_edges(edges)\n",
        "cube_edges = add_edges(square_edges)\n",
        "\n",
        "cube_xyz = []\n",
        "for single_edge in cube_edges:\n",
        "    cube_xyz.append(single_edge[0])\n",
        "    cube_xyz.append(single_edge[1])\n",
        "    # The np.inf value breaks the line plot into disconnected parts\n",
        "    cube_xyz.append((np.inf,)*3)\n",
        "cube_xyz = np.array(cube_xyz)\n",
        "\n",
        "def set_unit_cube(ax, side=1, set_view=(10,-67)):\n",
        "    \"\"\"Present the unit cube.\"\"\"\n",
        "    ax.set_xlabel('x'); ax.set_ylabel('y'); ax.set_zlabel('z');\n",
        "    ax.set_xticks(range(side+1)); ax.set_yticks(range(side+1)); ax.set_zticks(range(side+1));\n",
        "    ax.set_xlim(0, side); ax.set_ylim(0,side); ax.set_zlim(0,side);\n",
        "    if set_view:\n",
        "        ax.view_init(*set_view)\n",
        "\n",
        "fig = plt.figure(figsize=(6, 5))\n",
        "ax = fig.add_subplot(111,projection='3d')\n",
        "\n",
        "ax.plot(*zip(*cube_xyz), color='b')\n",
        "\n",
        "for i in range(2**N):\n",
        "    x = bit_component(i, 0)\n",
        "    y = bit_component(i, 1)\n",
        "    z = bit_component(i, 2)\n",
        "    ax.text(x, y+0.05, z+0.05, bin_str(i))\n",
        "\n",
        "set_unit_cube(ax)"
      ]
    },
    {
      "cell_type": "code",
      "execution_count": null,
      "metadata": {
        "id": "3K2mAGSZFoMM"
      },
      "outputs": [],
      "source": [
        "def gc(i):\n",
        "    \"\"\"Return the Gray code index of i.\"\"\"\n",
        "    return i ^ (i >> 1)\n",
        "\n",
        "def e(i):\n",
        "    \"\"\"Return the entry point of hypercube i.\"\"\"\n",
        "    if i==0:\n",
        "        return 0\n",
        "    else:\n",
        "        return gc(2*int(math.floor((i-1)//2)))\n",
        "\n",
        "def f(i):\n",
        "    \"\"\"Return the exit point of hypercube i.\"\"\"\n",
        "    return e(2**N-1-i) ^ 2**(N-1)\n",
        "\n",
        "def i_to_p(i):\n",
        "    \"\"\"Extract the 3d position from a 3-bit integer.\"\"\"\n",
        "    return [bit_component(i,j) for j in (0,1,2)]\n"
      ]
    },
    {
      "cell_type": "code",
      "execution_count": null,
      "metadata": {
        "id": "9AK9VAkUFoMN"
      },
      "outputs": [],
      "source": [
        "print('Gray code', map(lambda i: (gc(i), bin_str(gc(i))), range(2**N)),\n",
        "      'Entry point', map(lambda i: (e(i), bin_str(e(i))), range(2**N)),\n",
        "      'Exit point', map(lambda i: (f(i), bin_str(f(i))), range(2**N)),\n",
        "      sep='\\n')"
      ]
    },
    {
      "cell_type": "markdown",
      "metadata": {
        "id": "JHPyI2sJFoMN"
      },
      "source": [
        "## Visiting the Hilbert curve in the cube\n",
        "\n",
        "The path of the Hilbert curve without recursion is encoded in the sequence `gc(i)`,\n",
        "whose 3-bit values are interpreted a points in 3D (see above), and that visits\n",
        "the edges of the cube. These coordinates (scaled by 1/2) are stored in `xyz`.\n",
        "\n",
        "The first figure displays the curve visiting the centers of the subcubes, one of\n",
        "the typical representations of the Hilbert curve.\n",
        "In [TR], the path of the Hilbert curve proceeds by entering subcube `gc(i)` at point\n",
        "`e(i)` and leaving it a point `f(i)`. The entry and exit points `e(i)` and `f(i)` are\n",
        "stored in `e_xyz` and `f_xyz` and shown below.\n",
        "The last figure represents the full path as the sequences of arrows joining those points.\n"
      ]
    },
    {
      "cell_type": "code",
      "execution_count": null,
      "metadata": {
        "id": "eeRqWqhzFoMN"
      },
      "outputs": [],
      "source": [
        "\n",
        "# Obtain the 3 d coordinates for gc(i), e(i) and f(i) to build the Hilbert curve\n",
        "xyz = np.array(map(lambda i: i_to_p(gc(i)), range(2**N)))/2\n",
        "e_xyz = np.array(map(lambda i: i_to_p(e(i)), range(2**N)))/2\n",
        "f_xyz = np.array(map(lambda i: i_to_p(f(i)), range(2**N)))/2\n",
        "\n",
        "fig = plt.figure(figsize=(14, 12))\n",
        "\n",
        "ax1 = fig.add_subplot(221,projection='3d')\n",
        "\n",
        "ax1.plot(*zip(*(xyz+0.25)))\n",
        "for i, (x,y,z) in enumerate((xyz+0.27)):\n",
        "    ax1.text(x, y, z, str(i))\n",
        "ax1.set_title('The Hilbert curve, subcube centered')\n",
        "\n",
        "edges = []\n",
        "for e_point, f_point, origin in zip(e_xyz, f_xyz, xyz):\n",
        "    dir = (f_point-e_point)\n",
        "    # For the 3d quiver plot, the origin of the arrow is shifted\n",
        "    # which is why we use origin+e_point+dir instead of origin+e_point\n",
        "    edges.append(np.concatenate((origin+e_point+dir, dir)))\n",
        "\n",
        "ax2 = fig.add_subplot(222,projection='3d')\n",
        "ax2.quiver(*zip(*edges), length=0.5)\n",
        "ax2.set_title('Arrows to visit the Hilbert curve')\n",
        "\n",
        "# A naive sequence of binary points in 3D\n",
        "c = 0.25 + np.array(map(i_to_p, range(2**N)))/2\n",
        "\n",
        "ax3 = fig.add_subplot(223,projection='3d')\n",
        "ax3.plot(*zip(*c), color='b')\n",
        "for i, (x,y,z) in enumerate(c):\n",
        "    ax3.text(x, y, z, str(i))\n",
        "\n",
        "ax3.set_title('A naive curve to visit the cube')\n",
        "\n",
        "for ax in [ax1, ax2, ax3]:\n",
        "    ax.plot(*zip(*cube_xyz), color='k', zorder=1, alpha=0.5)\n",
        "    set_unit_cube(ax)"
      ]
    },
    {
      "cell_type": "markdown",
      "metadata": {
        "id": "i2A2Xk1VFoMN"
      },
      "source": [
        "## Define the curve directions and transforms\n",
        "\n",
        "To write the Hilbert curve algorithm, we still need to define\n",
        "the inter-subcube direction `g` and the intra-subcube direction `d`\n",
        "(the direction of the arrow that connect `e` and `f`)."
      ]
    },
    {
      "cell_type": "code",
      "execution_count": null,
      "metadata": {
        "id": "aPA-ddC5FoMN"
      },
      "outputs": [],
      "source": [
        "def inverse_gc(g):\n",
        "    \"\"\"The inverse gray code.\"\"\"\n",
        "    i = g\n",
        "    j = 1\n",
        "    while j<N:\n",
        "        i = i ^ (g >> j)\n",
        "        j = j + 1\n",
        "    return i\n",
        "\n",
        "def g(i):\n",
        "    \"\"\"The direction between subcube i and the next one\"\"\"\n",
        "    return int(np.log2(gc(i)^gc(i+1)))\n",
        "\n",
        "\n",
        "def d(i):\n",
        "    \"\"\"The direction of the arrow whithin a subcube.\"\"\"\n",
        "    if i==0:\n",
        "        return 0\n",
        "    elif (i%2)==0:\n",
        "        return g(i-1) % N\n",
        "    else:\n",
        "        return g(i) % N\n",
        "\n",
        "def T(e, d, b):\n",
        "    \"\"\"Transform b.\"\"\"\n",
        "    out = b ^ e\n",
        "    return rotate_right(out, d+1)\n",
        "\n",
        "def T_inv(e, d, b):\n",
        "    \"\"\"Inverse transform b.\"\"\"\n",
        "    return T(rotate_right(e, d+1), N-d-2, b)\n"
      ]
    },
    {
      "cell_type": "markdown",
      "metadata": {
        "id": "Cw4VEFEiFoMO"
      },
      "source": [
        "## Validating the relations\n",
        "\n",
        "The algorithm for the Hilbert curve is based on a series of relations between e, f, d and g.\n",
        "We can check those easily now.\n",
        "In order, we verify that:\n",
        "\n",
        "- Only the g(i)-th bit is changed between gc(i) and gc(i+1)\n",
        "- The tranform T sends an entry point e(i) to zero and the exit point f(i) to $2^{N-1}$:\n",
        "  $T_{e(i),d(i)}(e(i))=0$ and $T_{e(i),d(i)}(f(i))=f(i)$\n",
        "- The entry point e(i) reflected along the direction d(i) is the exit point f(i):\n",
        "  $e(i)$ ^ $d(i) = f(i)$\n",
        "- The inverse transform $T^{-1}$ composed with the direct transform $T$ is the identity.\n"
      ]
    },
    {
      "cell_type": "code",
      "execution_count": null,
      "metadata": {
        "id": "n2AVytnkFoMO"
      },
      "outputs": [],
      "source": [
        "# only g(i)-th bit changes from gc(i) to gc(i+1)\n",
        "for i in range(2**N-1):\n",
        "    assert gc(i) ^ (1 << g(i)) == gc(i+1)\n",
        "\n",
        "# T sends e(i) to 0 and f(i) to 2**(N-1)\n",
        "for i in range(2**N):\n",
        "    assert T(e(i), d(i), e(i))==0\n",
        "    assert T(e(i), d(i), f(i))==2**(N-1)\n",
        "\n",
        "# e(i) reflected in direction d(i) is f(i)\n",
        "for i in range(2**N):\n",
        "    assert e(i) ^ (1<<d(i)) == f(i)\n",
        "\n",
        "# T_inv composed with T (and vice versa) is the identity operator\n",
        "for i in range(2**N):\n",
        "    for b in range(2**N):\n",
        "        assert T(e(i), d(i), T_inv(e(i), d(i), b)) == b\n",
        "        assert T_inv(e(i), d(i), T(e(i), d(i), b)) == b\n"
      ]
    },
    {
      "cell_type": "markdown",
      "metadata": {
        "id": "tRWqD6l0FoMO"
      },
      "source": [
        "## Transform the curve for the subcubes\n",
        "\n",
        "According to [TR], one can use the transform `T` to map a subcube into the\n",
        "larger cube. Using the inverse transform, it is thus possible to generate\n",
        "the recursed Hilbert curve by mapping the main curve into each subcube.\n",
        "The coordinates of this refined Hilbert curve lie within the subcubes and\n",
        "must be translated by the corresponding origins to fill space correctly.\n",
        "\n",
        "We construct below the refined Hilbert curve by this manual procedure and\n",
        "display the individual subcubes. The coordinates are then used to show the\n",
        "directed path followed by the curve."
      ]
    },
    {
      "cell_type": "code",
      "execution_count": null,
      "metadata": {
        "id": "dZIdjeU5FoMO"
      },
      "outputs": [],
      "source": [
        "fig = plt.figure(figsize=(12, 18))\n",
        "ax = fig.add_subplot(211,projection='3d')\n",
        "\n",
        "# store the Hilbert curve with no recursion\n",
        "main_curve = [gc(i) for i in range(2**N)]\n",
        "# list of the in-subcube curves\n",
        "sub_curves = []\n",
        "for i, h_idx in enumerate(main_curve):\n",
        "    # append points from the subcube (obtained with the inverse transform T_inv\n",
        "    points = np.array( [ i_to_p(T_inv(e(i), d(i), x)) for x in main_curve ] )\n",
        "    # Translate the points by the origin of the subcube\n",
        "    points += np.array(i_to_p(h_idx))*2\n",
        "    sub_curves.append( points )\n",
        "\n",
        "# plot all subcurves separately\n",
        "[ax.plot(*zip(*c)) for c in sub_curves]\n",
        "ax.set_title('Individual Hilbert \"subcubes\"')\n",
        "set_unit_cube(ax, 3,  set_view=False)\n",
        "\n",
        "ax = fig.add_subplot(212,projection='3d')\n",
        "\n",
        "# prepare the data to draw arrows with the quiver command\n",
        "cc = np.concatenate(sub_curves)\n",
        "U = cc[1:,0]-cc[:-1,0]\n",
        "X = cc[:-1,0]+U\n",
        "V = cc[1:,1]-cc[:-1,1]\n",
        "Y = cc[:-1,1]+V\n",
        "W = cc[1:,2]-cc[:-1,2]\n",
        "Z = cc[:-1,2]+W\n",
        "ax.quiver(X,Y,Z,U,V,W,color=[matplotlib.cm.gnuplot(x) for x in np.linspace(0, 1,len(X)*3)], length=1)\n",
        "ax.set_title('Connected Hilbert \"subcubes\"')\n",
        "set_unit_cube(ax, 3, set_view=False)\n"
      ]
    },
    {
      "cell_type": "markdown",
      "metadata": {
        "collapsed": false,
        "id": "zfLzNMUdFoMP"
      },
      "source": [
        "## Implementation of the algorithms\n",
        "\n",
        "Now that all the components of the algorithm have been reviewed, it\n",
        "is time for the actual code. In [TR], the algorithm is listed explicitly\n",
        "in pseudo-code.\n",
        "\n",
        "- **Algorithm 2**, implemented in `TR_algo2`, transforms a set of integer\n",
        "  coordinates into its Hilbert index.\n",
        "- **Algorithm 3**, implemented in `TR_algo3`, transforms a Hilbert index\n",
        "  into a set of coordinates.\n",
        "  \n",
        "**Algorithm 2** works by computing the Hilbert index at subsequent refinement\n",
        "levels. Starting from the most significant bits of the coordinates `p`, it computes\n",
        "the subcube to which `p` belongs as a label `l`. `l` encodes in its N bits the\n",
        "subcube of interest as was show in the unit cube earlier. From `l`, it is easy to\n",
        "obtain the Hilbert index.\n",
        "The final Hilbert index is composed of this data packed in a single integer variable.\n",
        "As it proceeds in the subcube, the algorithm composes the transform `T` by updating the\n",
        "current entry point `ve` direction `vd` according to Lemma 2.13 of [TR].\n",
        "\n",
        "**Algorithm 3** works in a similar manner but extracts the relevant bits of the Hilbert\n",
        "index at each refinement level to construct the coordinates of the point."
      ]
    },
    {
      "cell_type": "code",
      "execution_count": null,
      "metadata": {
        "id": "IsdUNfDOFoMP"
      },
      "outputs": [],
      "source": [
        "M = 2\n",
        "def TR_algo2(p):\n",
        "    \"\"\"Return the Hilbert index of point p\"\"\"\n",
        "    # h will contain the Hilbert index\n",
        "    h = 0\n",
        "    # ve and vd contain the entry point and dimension of the current subcube\n",
        "    # we choose here a main traversal direction N-2 (i.e. z for a cube) to match\n",
        "    # the illustrations\n",
        "    ve = 0\n",
        "    vd = 2\n",
        "    for i in range(M-1, -1, -1):\n",
        "        # the cell label is constructed in two steps\n",
        "        # 1. extract the relevant bits from p\n",
        "        l = [bit_component(px, i) for px in p]\n",
        "        # 2. construct a integer whose bits are given by l\n",
        "        l = sum( [lx*2**j for j, lx in enumerate(l)] )\n",
        "        # transform l into the current subcube\n",
        "        l = T(ve, vd, l)\n",
        "        # obtain the gray code ordering from the label l\n",
        "        w = inverse_gc(l)\n",
        "        # compose (see [TR] lemma 2.13) the transform of ve and vd\n",
        "        # with the data of the subcube\n",
        "        ve = ve ^ (rotate_left(e(w), vd+1))\n",
        "        vd = (vd + d(w) + 1) % N\n",
        "        # move the index to more significant bits and add current value\n",
        "        h = (h << N) | w\n",
        "    return h\n",
        "\n",
        "def TR_algo3(h):\n",
        "    \"\"\"Return the coordinates for the Hilbert index h\"\"\"\n",
        "    ve = 0\n",
        "    vd = 2\n",
        "    p = [0]*N\n",
        "    for i in range(M-1, -1, -1):\n",
        "        w = [bit_component(h, i*N+ii) for ii in range(N)]\n",
        "        #print(i, w)\n",
        "        w = sum( [wx*2**j for j, wx in enumerate(w)] )\n",
        "        #print(i, w, gc(w))\n",
        "        l = gc(w)\n",
        "        l = T_inv(ve, vd, l)\n",
        "        for j in range(N):\n",
        "            p[j] += bit_component(l, j) << i\n",
        "        ve = ve ^ rotate_left(e(w), vd+1)\n",
        "        vd = (vd + d(w) + 1) % N\n",
        "    return p"
      ]
    },
    {
      "cell_type": "markdown",
      "metadata": {
        "collapsed": false,
        "id": "OquogAuxFoMP"
      },
      "source": [
        "## Displaying and checking the algorithm\n",
        "\n",
        "A basic consistency check is to verify that the successive application\n",
        "of `TR_algo3` and `TR_algo2` returns the same number than the one given.\n",
        "\n",
        "A visual inspection of the Hilbert curve on which we superimpose the Hilbert\n",
        "indices confirms the consistency of the algorithm."
      ]
    },
    {
      "cell_type": "code",
      "execution_count": null,
      "metadata": {
        "id": "nc7HyYPLFoMP"
      },
      "outputs": [],
      "source": [
        "# Verifying that the algorithm and its inverse agree\n",
        "for h_idx in range(2**(N*M)):\n",
        "    assert TR_algo2(TR_algo3(h_idx)) == h_idx"
      ]
    },
    {
      "cell_type": "code",
      "execution_count": null,
      "metadata": {
        "id": "fo1KZvwsFoMP"
      },
      "outputs": [],
      "source": [
        "fig = plt.figure(figsize=(12,9))\n",
        "ax = fig.add_subplot(111,projection='3d')\n",
        "\n",
        "ax.quiver(X,Y,Z,U,V,W,color=[matplotlib.cm.gnuplot(x) for x in np.linspace(0, 1,len(X)*3)], length=1)\n",
        "ax.set_title('Hilbert indices in 3D space')\n",
        "\n",
        "for h in range(2**(N*M)):\n",
        "    x, y, z = TR_algo3(h)\n",
        "    ax.text(x, y, z+0.1, str(h))\n",
        "\n",
        "set_unit_cube(ax, 3, set_view=(15,-55))\n"
      ]
    },
    {
      "cell_type": "markdown",
      "metadata": {
        "collapsed": false,
        "id": "ReTvFwh-FoMP"
      },
      "source": [
        "## Compact indices\n",
        "\n",
        "One novelty in [TR] is the definition of a compact Hilbert index that\n",
        "enables efficient storage of indices for spaces that have unequal sides.\n",
        "Think of it as allowing non-cubic boxes in 3D.\n",
        "\n",
        "The ideas underlying this compact index are:\n",
        "- The ordering of the index with respect to the full Hilbert index should be\n",
        "  conserved.\n",
        "- Some bits will be meaningless to store as they always be equal to zero and\n",
        "  as such they will be skipped. In practice, it means that depending on the\n",
        "  refinement (or recursion) level, less than `N` bits may be stored per level.\n",
        "\n",
        "The algorithms below are very similar to the previous ones, with the addition\n",
        "of masking to retain only meaningful bits in the index.\n",
        "After the implementations, we perform a check that the direct and inverse algorithms\n",
        "agree and illustrate the final result."
      ]
    },
    {
      "cell_type": "code",
      "execution_count": null,
      "metadata": {
        "id": "48R2szqXFoMP"
      },
      "outputs": [],
      "source": [
        "def gcr(i, mu, pi):\n",
        "    \"\"\"Compute the gray code rank of i given the mask mu.\n",
        "    Algorithm 4 in [TR]\"\"\"\n",
        "    r = 0\n",
        "    for k in range(N-1, -1, -1):\n",
        "        if bit_component(mu, k):\n",
        "            r = (r << 1) | bit_component(i, k)\n",
        "    return r\n",
        "\n",
        "def gcr_inv(r, mu, pi):\n",
        "    \"\"\"Inverse of the gray code rank, given the mask mu and the pattern pi.\n",
        "    Algorithm 5 in [TR]\"\"\"\n",
        "    i = 0\n",
        "    g = 0\n",
        "    j = sum([bit_component(mu, k) for k in range(N)])-1\n",
        "    for k in range(N-1, -1, -1):\n",
        "        if bit_component(mu, k)==1:\n",
        "            i |= bit_component(r, j) << k\n",
        "            g |= ( (bit_component(i, k) + bit_component(i, k+1))%2 ) << k\n",
        "            j -= 1\n",
        "        else:\n",
        "            g |= bit_component(pi, k) << k\n",
        "            i |= ( (bit_component(g, k) + bit_component(i, k+1)) % 2) << k\n",
        "    return i\n",
        "\n",
        "# definition of the size of the space. compact_M is of length N\n",
        "compact_M = [3, 2, 2]\n",
        "\n",
        "def extract_mask(i):\n",
        "    \"\"\"Extract the mask for iteration i of the algorithm.\n",
        "    Algorithm 6 in [TR]\"\"\"\n",
        "    mu = 0\n",
        "    for j in range(N-1, -1, -1):\n",
        "        mu = mu << 1\n",
        "        if compact_M[j] > i:\n",
        "            mu = mu | 1\n",
        "    return mu\n",
        "\n",
        "def TR_algo7(p):\n",
        "    \"\"\"Compute the compact Hilbert index for point p\"\"\"\n",
        "    h = 0\n",
        "    ve = 0\n",
        "    vd = 2\n",
        "    m = max(compact_M)\n",
        "    for i in range(m-1, -1, -1):\n",
        "        mu = extract_mask(i)\n",
        "        mu_norm = sum([bit_component(mu, j) for j in range(N)])\n",
        "        mu = rotate_right(mu, vd+1)\n",
        "        pi = rotate_right(ve, vd+1) & ((~mu) & 2**N-1)\n",
        "        l = [bit_component(px, i) for px in p]\n",
        "        # 2. construct a integer whose bits are given by l\n",
        "        l = sum( [lx*2**j for j, lx in enumerate(l)] )\n",
        "        l = T(ve, vd, l)\n",
        "        w = inverse_gc(l)\n",
        "        r = gcr(w, mu, pi)\n",
        "        ve = ve ^ rotate_left(e(w), vd+1)\n",
        "        vd = (vd + d(w) + 1) % N\n",
        "        h = (h << mu_norm) | r\n",
        "    return h\n",
        "\n",
        "def TR_algo8(h):\n",
        "    \"\"\"Compute the point with compact Hilbert index h\"\"\"\n",
        "    ve = 0\n",
        "    vd = 2\n",
        "    k = 0\n",
        "    p = [0,]*N\n",
        "    m = max(compact_M)\n",
        "    vM = sum(compact_M)\n",
        "    for i in range(m-1, -1, -1):\n",
        "        mu = extract_mask(i)\n",
        "        mu_norm = sum([bit_component(mu, j) for j in range(N)])\n",
        "        mu = rotate_right(mu, vd+1)\n",
        "        pi = rotate_right(ve, vd+1) & (~mu & 2**N-1)\n",
        "        r = [bit_component(h, vM - k - (j+1)) for j in range(mu_norm)][::-1]\n",
        "        r = sum( [rx*2**j for j, rx in enumerate(r)] )\n",
        "        k = k + mu_norm\n",
        "        w = gcr_inv(r, mu, pi)\n",
        "        l = gc(w)\n",
        "        l = T_inv(ve, vd, l)\n",
        "        for j in range(N):\n",
        "            p[j] |= bit_component(l, j) << i\n",
        "        ve = ve ^ (rotate_left(e(w), vd+1))\n",
        "        vd = (vd + d(w) + 1) % N\n",
        "    return p"
      ]
    },
    {
      "cell_type": "code",
      "execution_count": null,
      "metadata": {
        "collapsed": true,
        "id": "6oZXdcY4FoMQ"
      },
      "outputs": [],
      "source": [
        "# Verifying that the algorithm and its inverse agree\n",
        "\n",
        "for h_idx in range(2**sum(compact_M)):\n",
        "    assert TR_algo7(TR_algo8(h_idx))==h_idx"
      ]
    },
    {
      "cell_type": "code",
      "execution_count": null,
      "metadata": {
        "id": "fRJYn-aXFoMQ"
      },
      "outputs": [],
      "source": [
        "fig = plt.figure(figsize=(14, 12))\n",
        "\n",
        "ax = fig.add_subplot(111,projection='3d')\n",
        "\n",
        "test_data = [TR_algo8(i) for i in range(2**sum(compact_M))]\n",
        "ax.plot(*zip(*test_data))\n",
        "\n",
        "for i in range(2**sum(compact_M)):\n",
        "    x, y, z = TR_algo8(i)\n",
        "    ax.text(x, y, z, str(i))\n",
        "\n",
        "ax.set_title('Compact Hilbert indices in 3D space')\n",
        "ax.set_xlabel('x'); ax.set_ylabel('y'); ax.set_zlabel('z');\n",
        "ax.set_xticks(range(2**compact_M[0])); ax.set_yticks(range(2**compact_M[1])); ax.set_zticks(range(2**compact_M[2]));\n",
        "ax.set_xlim(0, 2**compact_M[0]-1); ax.set_ylim(0,2**compact_M[1]-1); ax.set_zlim(0,2**compact_M[2]-1);\n",
        "ax.view_init(10, -74);"
      ]
    },
    {
      "cell_type": "code",
      "execution_count": null,
      "metadata": {
        "id": "bi5tR46cFoMQ"
      },
      "outputs": [],
      "source": []
    }
  ],
  "metadata": {
    "kernelspec": {
      "display_name": "Python 3",
      "name": "python3"
    },
    "language_info": {
      "name": "python"
    },
    "colab": {
      "provenance": [],
      "machine_shape": "hm"
    }
  },
  "nbformat": 4,
  "nbformat_minor": 0
}